{
  "cells": [
    {
      "cell_type": "code",
      "execution_count": 4,
      "id": "eea7eb94-3fb4-49af-b385-609a4dff03ec",
      "metadata": {
        "id": "eea7eb94-3fb4-49af-b385-609a4dff03ec"
      },
      "outputs": [],
      "source": [
        "import numpy as np\n",
        "import pandas as pd\n",
        "import matplotlib.pyplot as plt\n",
        "import seaborn as sns\n",
        "import warnings\n",
        "warnings.filterwarnings('ignore')"
      ]
    },
    {
      "cell_type": "markdown",
      "id": "fcf3c19f-12d0-45a1-ad2d-179c42478860",
      "metadata": {
        "id": "fcf3c19f-12d0-45a1-ad2d-179c42478860"
      },
      "source": [
        "# EDA"
      ]
    },
    {
      "cell_type": "code",
      "execution_count": 5,
      "id": "d7b52ac0-2d33-4d76-9fdd-5d0c6d319517",
      "metadata": {
        "id": "d7b52ac0-2d33-4d76-9fdd-5d0c6d319517"
      },
      "outputs": [],
      "source": [
        "df = pd.read_csv(\"heart.csv\")"
      ]
    },
    {
      "cell_type": "code",
      "execution_count": 6,
      "id": "0441535c-3456-4b6f-a72a-e378b4ebca86",
      "metadata": {
        "colab": {
          "base_uri": "https://localhost:8080/",
          "height": 226
        },
        "id": "0441535c-3456-4b6f-a72a-e378b4ebca86",
        "outputId": "6ac0822e-6f02-4d40-fd0c-1786943f527b"
      },
      "outputs": [
        {
          "data": {
            "application/vnd.microsoft.datawrangler.viewer.v0+json": {
              "columns": [
                {
                  "name": "index",
                  "rawType": "int64",
                  "type": "integer"
                },
                {
                  "name": "Age",
                  "rawType": "int64",
                  "type": "integer"
                },
                {
                  "name": "Sex",
                  "rawType": "object",
                  "type": "string"
                },
                {
                  "name": "ChestPainType",
                  "rawType": "object",
                  "type": "string"
                },
                {
                  "name": "RestingBP",
                  "rawType": "int64",
                  "type": "integer"
                },
                {
                  "name": "Cholesterol",
                  "rawType": "int64",
                  "type": "integer"
                },
                {
                  "name": "FastingBS",
                  "rawType": "int64",
                  "type": "integer"
                },
                {
                  "name": "RestingECG",
                  "rawType": "object",
                  "type": "string"
                },
                {
                  "name": "MaxHR",
                  "rawType": "int64",
                  "type": "integer"
                },
                {
                  "name": "ExerciseAngina",
                  "rawType": "object",
                  "type": "string"
                },
                {
                  "name": "Oldpeak",
                  "rawType": "float64",
                  "type": "float"
                },
                {
                  "name": "ST_Slope",
                  "rawType": "object",
                  "type": "string"
                },
                {
                  "name": "HeartDisease",
                  "rawType": "int64",
                  "type": "integer"
                }
              ],
              "ref": "76040290-8454-4a1c-8385-12d5d13d10a4",
              "rows": [
                [
                  "0",
                  "40",
                  "M",
                  "ATA",
                  "140",
                  "289",
                  "0",
                  "Normal",
                  "172",
                  "N",
                  "0.0",
                  "Up",
                  "0"
                ],
                [
                  "1",
                  "49",
                  "F",
                  "NAP",
                  "160",
                  "180",
                  "0",
                  "Normal",
                  "156",
                  "N",
                  "1.0",
                  "Flat",
                  "1"
                ],
                [
                  "2",
                  "37",
                  "M",
                  "ATA",
                  "130",
                  "283",
                  "0",
                  "ST",
                  "98",
                  "N",
                  "0.0",
                  "Up",
                  "0"
                ],
                [
                  "3",
                  "48",
                  "F",
                  "ASY",
                  "138",
                  "214",
                  "0",
                  "Normal",
                  "108",
                  "Y",
                  "1.5",
                  "Flat",
                  "1"
                ],
                [
                  "4",
                  "54",
                  "M",
                  "NAP",
                  "150",
                  "195",
                  "0",
                  "Normal",
                  "122",
                  "N",
                  "0.0",
                  "Up",
                  "0"
                ]
              ],
              "shape": {
                "columns": 12,
                "rows": 5
              }
            },
            "text/html": [
              "<div>\n",
              "<style scoped>\n",
              "    .dataframe tbody tr th:only-of-type {\n",
              "        vertical-align: middle;\n",
              "    }\n",
              "\n",
              "    .dataframe tbody tr th {\n",
              "        vertical-align: top;\n",
              "    }\n",
              "\n",
              "    .dataframe thead th {\n",
              "        text-align: right;\n",
              "    }\n",
              "</style>\n",
              "<table border=\"1\" class=\"dataframe\">\n",
              "  <thead>\n",
              "    <tr style=\"text-align: right;\">\n",
              "      <th></th>\n",
              "      <th>Age</th>\n",
              "      <th>Sex</th>\n",
              "      <th>ChestPainType</th>\n",
              "      <th>RestingBP</th>\n",
              "      <th>Cholesterol</th>\n",
              "      <th>FastingBS</th>\n",
              "      <th>RestingECG</th>\n",
              "      <th>MaxHR</th>\n",
              "      <th>ExerciseAngina</th>\n",
              "      <th>Oldpeak</th>\n",
              "      <th>ST_Slope</th>\n",
              "      <th>HeartDisease</th>\n",
              "    </tr>\n",
              "  </thead>\n",
              "  <tbody>\n",
              "    <tr>\n",
              "      <th>0</th>\n",
              "      <td>40</td>\n",
              "      <td>M</td>\n",
              "      <td>ATA</td>\n",
              "      <td>140</td>\n",
              "      <td>289</td>\n",
              "      <td>0</td>\n",
              "      <td>Normal</td>\n",
              "      <td>172</td>\n",
              "      <td>N</td>\n",
              "      <td>0.0</td>\n",
              "      <td>Up</td>\n",
              "      <td>0</td>\n",
              "    </tr>\n",
              "    <tr>\n",
              "      <th>1</th>\n",
              "      <td>49</td>\n",
              "      <td>F</td>\n",
              "      <td>NAP</td>\n",
              "      <td>160</td>\n",
              "      <td>180</td>\n",
              "      <td>0</td>\n",
              "      <td>Normal</td>\n",
              "      <td>156</td>\n",
              "      <td>N</td>\n",
              "      <td>1.0</td>\n",
              "      <td>Flat</td>\n",
              "      <td>1</td>\n",
              "    </tr>\n",
              "    <tr>\n",
              "      <th>2</th>\n",
              "      <td>37</td>\n",
              "      <td>M</td>\n",
              "      <td>ATA</td>\n",
              "      <td>130</td>\n",
              "      <td>283</td>\n",
              "      <td>0</td>\n",
              "      <td>ST</td>\n",
              "      <td>98</td>\n",
              "      <td>N</td>\n",
              "      <td>0.0</td>\n",
              "      <td>Up</td>\n",
              "      <td>0</td>\n",
              "    </tr>\n",
              "    <tr>\n",
              "      <th>3</th>\n",
              "      <td>48</td>\n",
              "      <td>F</td>\n",
              "      <td>ASY</td>\n",
              "      <td>138</td>\n",
              "      <td>214</td>\n",
              "      <td>0</td>\n",
              "      <td>Normal</td>\n",
              "      <td>108</td>\n",
              "      <td>Y</td>\n",
              "      <td>1.5</td>\n",
              "      <td>Flat</td>\n",
              "      <td>1</td>\n",
              "    </tr>\n",
              "    <tr>\n",
              "      <th>4</th>\n",
              "      <td>54</td>\n",
              "      <td>M</td>\n",
              "      <td>NAP</td>\n",
              "      <td>150</td>\n",
              "      <td>195</td>\n",
              "      <td>0</td>\n",
              "      <td>Normal</td>\n",
              "      <td>122</td>\n",
              "      <td>N</td>\n",
              "      <td>0.0</td>\n",
              "      <td>Up</td>\n",
              "      <td>0</td>\n",
              "    </tr>\n",
              "  </tbody>\n",
              "</table>\n",
              "</div>"
            ],
            "text/plain": [
              "   Age Sex ChestPainType  RestingBP  Cholesterol  FastingBS RestingECG  MaxHR  \\\n",
              "0   40   M           ATA        140          289          0     Normal    172   \n",
              "1   49   F           NAP        160          180          0     Normal    156   \n",
              "2   37   M           ATA        130          283          0         ST     98   \n",
              "3   48   F           ASY        138          214          0     Normal    108   \n",
              "4   54   M           NAP        150          195          0     Normal    122   \n",
              "\n",
              "  ExerciseAngina  Oldpeak ST_Slope  HeartDisease  \n",
              "0              N      0.0       Up             0  \n",
              "1              N      1.0     Flat             1  \n",
              "2              N      0.0       Up             0  \n",
              "3              Y      1.5     Flat             1  \n",
              "4              N      0.0       Up             0  "
            ]
          },
          "execution_count": 6,
          "metadata": {},
          "output_type": "execute_result"
        }
      ],
      "source": [
        "df.head()"
      ]
    },
    {
      "cell_type": "code",
      "execution_count": 7,
      "id": "09e0da9b-d956-4851-84cc-f3089a59b52d",
      "metadata": {
        "colab": {
          "base_uri": "https://localhost:8080/"
        },
        "id": "09e0da9b-d956-4851-84cc-f3089a59b52d",
        "outputId": "6ebfa6a7-8e7f-4981-f2b2-55063fc302be"
      },
      "outputs": [
        {
          "data": {
            "text/plain": [
              "(918, 12)"
            ]
          },
          "execution_count": 7,
          "metadata": {},
          "output_type": "execute_result"
        }
      ],
      "source": [
        "df.shape"
      ]
    },
    {
      "cell_type": "code",
      "execution_count": 8,
      "id": "ef78f0c7-21d9-48fa-be89-dcdff061d38d",
      "metadata": {
        "colab": {
          "base_uri": "https://localhost:8080/"
        },
        "id": "ef78f0c7-21d9-48fa-be89-dcdff061d38d",
        "outputId": "ebd48c76-38d1-4123-aec1-ad687f4eb0eb"
      },
      "outputs": [
        {
          "name": "stdout",
          "output_type": "stream",
          "text": [
            "<class 'pandas.core.frame.DataFrame'>\n",
            "RangeIndex: 918 entries, 0 to 917\n",
            "Data columns (total 12 columns):\n",
            " #   Column          Non-Null Count  Dtype  \n",
            "---  ------          --------------  -----  \n",
            " 0   Age             918 non-null    int64  \n",
            " 1   Sex             918 non-null    object \n",
            " 2   ChestPainType   918 non-null    object \n",
            " 3   RestingBP       918 non-null    int64  \n",
            " 4   Cholesterol     918 non-null    int64  \n",
            " 5   FastingBS       918 non-null    int64  \n",
            " 6   RestingECG      918 non-null    object \n",
            " 7   MaxHR           918 non-null    int64  \n",
            " 8   ExerciseAngina  918 non-null    object \n",
            " 9   Oldpeak         918 non-null    float64\n",
            " 10  ST_Slope        918 non-null    object \n",
            " 11  HeartDisease    918 non-null    int64  \n",
            "dtypes: float64(1), int64(6), object(5)\n",
            "memory usage: 86.2+ KB\n"
          ]
        }
      ],
      "source": [
        "df.info()"
      ]
    },
    {
      "cell_type": "code",
      "execution_count": 9,
      "id": "6d719565-39b4-4e2f-9200-68bbaff82b4b",
      "metadata": {
        "colab": {
          "base_uri": "https://localhost:8080/",
          "height": 320
        },
        "id": "6d719565-39b4-4e2f-9200-68bbaff82b4b",
        "outputId": "07cf69b8-763f-4659-9524-2a2453a8eaac"
      },
      "outputs": [
        {
          "data": {
            "application/vnd.microsoft.datawrangler.viewer.v0+json": {
              "columns": [
                {
                  "name": "index",
                  "rawType": "object",
                  "type": "string"
                },
                {
                  "name": "Age",
                  "rawType": "float64",
                  "type": "float"
                },
                {
                  "name": "RestingBP",
                  "rawType": "float64",
                  "type": "float"
                },
                {
                  "name": "Cholesterol",
                  "rawType": "float64",
                  "type": "float"
                },
                {
                  "name": "FastingBS",
                  "rawType": "float64",
                  "type": "float"
                },
                {
                  "name": "MaxHR",
                  "rawType": "float64",
                  "type": "float"
                },
                {
                  "name": "Oldpeak",
                  "rawType": "float64",
                  "type": "float"
                },
                {
                  "name": "HeartDisease",
                  "rawType": "float64",
                  "type": "float"
                }
              ],
              "ref": "a6830551-0e95-408a-b2e6-33187d32faa2",
              "rows": [
                [
                  "count",
                  "918.0",
                  "918.0",
                  "918.0",
                  "918.0",
                  "918.0",
                  "918.0",
                  "918.0"
                ],
                [
                  "mean",
                  "53.510893246187365",
                  "132.39651416122004",
                  "198.7995642701525",
                  "0.23311546840958605",
                  "136.80936819172112",
                  "0.8873638344226579",
                  "0.5533769063180828"
                ],
                [
                  "std",
                  "9.43261650673201",
                  "18.5141541199078",
                  "109.38414455220348",
                  "0.423045624739303",
                  "25.4603341382503",
                  "1.0665701510493257",
                  "0.4974137382845968"
                ],
                [
                  "min",
                  "28.0",
                  "0.0",
                  "0.0",
                  "0.0",
                  "60.0",
                  "-2.6",
                  "0.0"
                ],
                [
                  "25%",
                  "47.0",
                  "120.0",
                  "173.25",
                  "0.0",
                  "120.0",
                  "0.0",
                  "0.0"
                ],
                [
                  "50%",
                  "54.0",
                  "130.0",
                  "223.0",
                  "0.0",
                  "138.0",
                  "0.6",
                  "1.0"
                ],
                [
                  "75%",
                  "60.0",
                  "140.0",
                  "267.0",
                  "0.0",
                  "156.0",
                  "1.5",
                  "1.0"
                ],
                [
                  "max",
                  "77.0",
                  "200.0",
                  "603.0",
                  "1.0",
                  "202.0",
                  "6.2",
                  "1.0"
                ]
              ],
              "shape": {
                "columns": 7,
                "rows": 8
              }
            },
            "text/html": [
              "<div>\n",
              "<style scoped>\n",
              "    .dataframe tbody tr th:only-of-type {\n",
              "        vertical-align: middle;\n",
              "    }\n",
              "\n",
              "    .dataframe tbody tr th {\n",
              "        vertical-align: top;\n",
              "    }\n",
              "\n",
              "    .dataframe thead th {\n",
              "        text-align: right;\n",
              "    }\n",
              "</style>\n",
              "<table border=\"1\" class=\"dataframe\">\n",
              "  <thead>\n",
              "    <tr style=\"text-align: right;\">\n",
              "      <th></th>\n",
              "      <th>Age</th>\n",
              "      <th>RestingBP</th>\n",
              "      <th>Cholesterol</th>\n",
              "      <th>FastingBS</th>\n",
              "      <th>MaxHR</th>\n",
              "      <th>Oldpeak</th>\n",
              "      <th>HeartDisease</th>\n",
              "    </tr>\n",
              "  </thead>\n",
              "  <tbody>\n",
              "    <tr>\n",
              "      <th>count</th>\n",
              "      <td>918.000000</td>\n",
              "      <td>918.000000</td>\n",
              "      <td>918.000000</td>\n",
              "      <td>918.000000</td>\n",
              "      <td>918.000000</td>\n",
              "      <td>918.000000</td>\n",
              "      <td>918.000000</td>\n",
              "    </tr>\n",
              "    <tr>\n",
              "      <th>mean</th>\n",
              "      <td>53.510893</td>\n",
              "      <td>132.396514</td>\n",
              "      <td>198.799564</td>\n",
              "      <td>0.233115</td>\n",
              "      <td>136.809368</td>\n",
              "      <td>0.887364</td>\n",
              "      <td>0.553377</td>\n",
              "    </tr>\n",
              "    <tr>\n",
              "      <th>std</th>\n",
              "      <td>9.432617</td>\n",
              "      <td>18.514154</td>\n",
              "      <td>109.384145</td>\n",
              "      <td>0.423046</td>\n",
              "      <td>25.460334</td>\n",
              "      <td>1.066570</td>\n",
              "      <td>0.497414</td>\n",
              "    </tr>\n",
              "    <tr>\n",
              "      <th>min</th>\n",
              "      <td>28.000000</td>\n",
              "      <td>0.000000</td>\n",
              "      <td>0.000000</td>\n",
              "      <td>0.000000</td>\n",
              "      <td>60.000000</td>\n",
              "      <td>-2.600000</td>\n",
              "      <td>0.000000</td>\n",
              "    </tr>\n",
              "    <tr>\n",
              "      <th>25%</th>\n",
              "      <td>47.000000</td>\n",
              "      <td>120.000000</td>\n",
              "      <td>173.250000</td>\n",
              "      <td>0.000000</td>\n",
              "      <td>120.000000</td>\n",
              "      <td>0.000000</td>\n",
              "      <td>0.000000</td>\n",
              "    </tr>\n",
              "    <tr>\n",
              "      <th>50%</th>\n",
              "      <td>54.000000</td>\n",
              "      <td>130.000000</td>\n",
              "      <td>223.000000</td>\n",
              "      <td>0.000000</td>\n",
              "      <td>138.000000</td>\n",
              "      <td>0.600000</td>\n",
              "      <td>1.000000</td>\n",
              "    </tr>\n",
              "    <tr>\n",
              "      <th>75%</th>\n",
              "      <td>60.000000</td>\n",
              "      <td>140.000000</td>\n",
              "      <td>267.000000</td>\n",
              "      <td>0.000000</td>\n",
              "      <td>156.000000</td>\n",
              "      <td>1.500000</td>\n",
              "      <td>1.000000</td>\n",
              "    </tr>\n",
              "    <tr>\n",
              "      <th>max</th>\n",
              "      <td>77.000000</td>\n",
              "      <td>200.000000</td>\n",
              "      <td>603.000000</td>\n",
              "      <td>1.000000</td>\n",
              "      <td>202.000000</td>\n",
              "      <td>6.200000</td>\n",
              "      <td>1.000000</td>\n",
              "    </tr>\n",
              "  </tbody>\n",
              "</table>\n",
              "</div>"
            ],
            "text/plain": [
              "              Age   RestingBP  Cholesterol   FastingBS       MaxHR  \\\n",
              "count  918.000000  918.000000   918.000000  918.000000  918.000000   \n",
              "mean    53.510893  132.396514   198.799564    0.233115  136.809368   \n",
              "std      9.432617   18.514154   109.384145    0.423046   25.460334   \n",
              "min     28.000000    0.000000     0.000000    0.000000   60.000000   \n",
              "25%     47.000000  120.000000   173.250000    0.000000  120.000000   \n",
              "50%     54.000000  130.000000   223.000000    0.000000  138.000000   \n",
              "75%     60.000000  140.000000   267.000000    0.000000  156.000000   \n",
              "max     77.000000  200.000000   603.000000    1.000000  202.000000   \n",
              "\n",
              "          Oldpeak  HeartDisease  \n",
              "count  918.000000    918.000000  \n",
              "mean     0.887364      0.553377  \n",
              "std      1.066570      0.497414  \n",
              "min     -2.600000      0.000000  \n",
              "25%      0.000000      0.000000  \n",
              "50%      0.600000      1.000000  \n",
              "75%      1.500000      1.000000  \n",
              "max      6.200000      1.000000  "
            ]
          },
          "execution_count": 9,
          "metadata": {},
          "output_type": "execute_result"
        }
      ],
      "source": [
        "df.describe()"
      ]
    },
    {
      "cell_type": "code",
      "execution_count": 10,
      "id": "dc67f591-dfb6-4138-a441-64a659e2b511",
      "metadata": {
        "colab": {
          "base_uri": "https://localhost:8080/"
        },
        "id": "dc67f591-dfb6-4138-a441-64a659e2b511",
        "outputId": "22b3533f-4c5a-419e-cc7a-a1ebb4b9dadc"
      },
      "outputs": [
        {
          "data": {
            "text/plain": [
              "0"
            ]
          },
          "execution_count": 10,
          "metadata": {},
          "output_type": "execute_result"
        }
      ],
      "source": [
        "df.duplicated().sum()"
      ]
    },
    {
      "cell_type": "code",
      "execution_count": 11,
      "id": "5d0a950a-f903-4bbf-aca9-b00d37be7b60",
      "metadata": {
        "colab": {
          "base_uri": "https://localhost:8080/",
          "height": 460
        },
        "id": "5d0a950a-f903-4bbf-aca9-b00d37be7b60",
        "outputId": "935ca9d9-abbe-4478-cc01-351b75e3be22"
      },
      "outputs": [
        {
          "data": {
            "application/vnd.microsoft.datawrangler.viewer.v0+json": {
              "columns": [
                {
                  "name": "index",
                  "rawType": "object",
                  "type": "string"
                },
                {
                  "name": "0",
                  "rawType": "int64",
                  "type": "integer"
                }
              ],
              "ref": "b49c73ad-3716-4125-9005-67d564001fcb",
              "rows": [
                [
                  "Age",
                  "0"
                ],
                [
                  "Sex",
                  "0"
                ],
                [
                  "ChestPainType",
                  "0"
                ],
                [
                  "RestingBP",
                  "0"
                ],
                [
                  "Cholesterol",
                  "0"
                ],
                [
                  "FastingBS",
                  "0"
                ],
                [
                  "RestingECG",
                  "0"
                ],
                [
                  "MaxHR",
                  "0"
                ],
                [
                  "ExerciseAngina",
                  "0"
                ],
                [
                  "Oldpeak",
                  "0"
                ],
                [
                  "ST_Slope",
                  "0"
                ],
                [
                  "HeartDisease",
                  "0"
                ]
              ],
              "shape": {
                "columns": 1,
                "rows": 12
              }
            },
            "text/plain": [
              "Age               0\n",
              "Sex               0\n",
              "ChestPainType     0\n",
              "RestingBP         0\n",
              "Cholesterol       0\n",
              "FastingBS         0\n",
              "RestingECG        0\n",
              "MaxHR             0\n",
              "ExerciseAngina    0\n",
              "Oldpeak           0\n",
              "ST_Slope          0\n",
              "HeartDisease      0\n",
              "dtype: int64"
            ]
          },
          "execution_count": 11,
          "metadata": {},
          "output_type": "execute_result"
        }
      ],
      "source": [
        "df.isnull().sum()"
      ]
    },
    {
      "cell_type": "code",
      "execution_count": 12,
      "id": "978e1da4-b4cf-47ed-af06-bb1af6bf4cf7",
      "metadata": {
        "colab": {
          "base_uri": "https://localhost:8080/"
        },
        "id": "978e1da4-b4cf-47ed-af06-bb1af6bf4cf7",
        "outputId": "bbfa899e-5ac1-4edf-b4fe-4dd2ff0e1a04"
      },
      "outputs": [
        {
          "data": {
            "text/plain": [
              "Index(['Age', 'Sex', 'ChestPainType', 'RestingBP', 'Cholesterol', 'FastingBS',\n",
              "       'RestingECG', 'MaxHR', 'ExerciseAngina', 'Oldpeak', 'ST_Slope',\n",
              "       'HeartDisease'],\n",
              "      dtype='object')"
            ]
          },
          "execution_count": 12,
          "metadata": {},
          "output_type": "execute_result"
        }
      ],
      "source": [
        "df.columns"
      ]
    },
    {
      "cell_type": "code",
      "execution_count": 13,
      "id": "36a1950a-218d-436e-9aa6-845b6702514d",
      "metadata": {
        "colab": {
          "base_uri": "https://localhost:8080/",
          "height": 486
        },
        "collapsed": true,
        "id": "36a1950a-218d-436e-9aa6-845b6702514d",
        "jupyter": {
          "outputs_hidden": true
        },
        "outputId": "14a77fc9-6fc0-45cc-e459-14a9dc32f91d"
      },
      "outputs": [
        {
          "data": {
            "image/png": "[encoded data removed]",
            "text/plain": [
              "<Figure size 640x480 with 4 Axes>"
            ]
          },
          "metadata": {},
          "output_type": "display_data"
        }
      ],
      "source": [
        "def plotting(var,num):\n",
        "    plt.subplot(2,2,num)\n",
        "    sns.histplot(df[var],kde = True)\n",
        "\n",
        "plotting(\"Age\",1)\n",
        "plotting(\"RestingBP\",2)\n",
        "plotting(\"Cholesterol\",3)\n",
        "plotting(\"MaxHR\",4)\n",
        "\n",
        "plt.tight_layout()"
      ]
    },
    {
      "cell_type": "code",
      "execution_count": 14,
      "id": "3782fb69-f11b-4ca4-b446-5d8f6d4fef1f",
      "metadata": {
        "id": "3782fb69-f11b-4ca4-b446-5d8f6d4fef1f"
      },
      "outputs": [],
      "source": [
        "cholesterol_mean = df.loc[df['Cholesterol'] != 0, 'Cholesterol'].mean()\n",
        "\n",
        "# Step 2: Replace 0s with the calculated mean\n",
        "df['Cholesterol'] = df['Cholesterol'].replace(0, cholesterol_mean)\n",
        "\n",
        "# Optional: Round to 2 decimal places (if needed)\n",
        "df['Cholesterol'] = df['Cholesterol'].round(2)"
      ]
    },
    {
      "cell_type": "code",
      "execution_count": 15,
      "id": "74328050-c97f-42ee-af93-ff394d7a53a1",
      "metadata": {
        "id": "74328050-c97f-42ee-af93-ff394d7a53a1"
      },
      "outputs": [],
      "source": [
        "resting_bp_mean = df.loc[df['RestingBP'] != 0, 'RestingBP'].mean()\n",
        "\n",
        "df['RestingBP'] = df['RestingBP'].replace(0, resting_bp_mean)\n",
        "\n",
        "df['RestingBP'] = df['RestingBP'].round(2)"
      ]
    },
    {
      "cell_type": "code",
      "execution_count": 16,
      "id": "e6fe0ece-f0a6-431d-b28d-6fb57f5a4bf1",
      "metadata": {
        "colab": {
          "base_uri": "https://localhost:8080/"
        },
        "id": "e6fe0ece-f0a6-431d-b28d-6fb57f5a4bf1",
        "outputId": "9559a3bb-3dd0-49b7-e295-a590a0d61ff6"
      },
      "outputs": [],
      "source": [
        "# !pip install sheryanalysis==0.1.0"
      ]
    },
    {
      "cell_type": "code",
      "execution_count": 17,
      "id": "c33277aa-1f7b-41f9-b923-e0f2137c45fe",
      "metadata": {
        "colab": {
          "base_uri": "https://localhost:8080/"
        },
        "id": "c33277aa-1f7b-41f9-b923-e0f2137c45fe",
        "outputId": "be98b0ef-e11f-4b42-99c4-84d02e1a096c"
      },
      "outputs": [
        {
          "name": "stdout",
          "output_type": "stream",
          "text": [
            "\n",
            "🔍 Basic Analysis Report\n",
            "------------------------------------------------------------\n",
            "📏 Shape: (918, 12)\n",
            "🧱 Columns: ['Age', 'Sex', 'ChestPainType', 'RestingBP', 'Cholesterol', 'FastingBS', 'RestingECG', 'MaxHR', 'ExerciseAngina', 'Oldpeak', 'ST_Slope', 'HeartDisease']\n",
            "\n",
            "✅ No null values found\n",
            "\n",
            "🔠 Categorical Columns: ['Sex', 'ChestPainType', 'FastingBS', 'RestingECG', 'ExerciseAngina', 'ST_Slope', 'HeartDisease']\n",
            "\n",
            "🔢 Numerical Columns: ['Age', 'RestingBP', 'Cholesterol', 'MaxHR', 'Oldpeak']\n"
          ]
        },
        {
          "data": {
            "text/plain": [
              "{'shape': (918, 12),\n",
              " 'columns': ['Age',\n",
              "  'Sex',\n",
              "  'ChestPainType',\n",
              "  'RestingBP',\n",
              "  'Cholesterol',\n",
              "  'FastingBS',\n",
              "  'RestingECG',\n",
              "  'MaxHR',\n",
              "  'ExerciseAngina',\n",
              "  'Oldpeak',\n",
              "  'ST_Slope',\n",
              "  'HeartDisease'],\n",
              " 'dtypes': {'Age': dtype('int64'),\n",
              "  'Sex': dtype('O'),\n",
              "  'ChestPainType': dtype('O'),\n",
              "  'RestingBP': dtype('float64'),\n",
              "  'Cholesterol': dtype('float64'),\n",
              "  'FastingBS': dtype('int64'),\n",
              "  'RestingECG': dtype('O'),\n",
              "  'MaxHR': dtype('int64'),\n",
              "  'ExerciseAngina': dtype('O'),\n",
              "  'Oldpeak': dtype('float64'),\n",
              "  'ST_Slope': dtype('O'),\n",
              "  'HeartDisease': dtype('int64')},\n",
              " 'null_counts': {'Age': 0,\n",
              "  'Sex': 0,\n",
              "  'ChestPainType': 0,\n",
              "  'RestingBP': 0,\n",
              "  'Cholesterol': 0,\n",
              "  'FastingBS': 0,\n",
              "  'RestingECG': 0,\n",
              "  'MaxHR': 0,\n",
              "  'ExerciseAngina': 0,\n",
              "  'Oldpeak': 0,\n",
              "  'ST_Slope': 0,\n",
              "  'HeartDisease': 0},\n",
              " 'total_rows': 918,\n",
              " 'column_types': {'categorical': ['Sex',\n",
              "   'ChestPainType',\n",
              "   'FastingBS',\n",
              "   'RestingECG',\n",
              "   'ExerciseAngina',\n",
              "   'ST_Slope',\n",
              "   'HeartDisease'],\n",
              "  'numerical': ['Age', 'RestingBP', 'Cholesterol', 'MaxHR', 'Oldpeak'],\n",
              "  'datetime': [],\n",
              "  'text': []}}"
            ]
          },
          "execution_count": 17,
          "metadata": {},
          "output_type": "execute_result"
        }
      ],
      "source": [
        "import sheryanalysis\n",
        "sheryanalysis.analyze(df)"
      ]
    },
    {
      "cell_type": "code",
      "execution_count": 18,
      "id": "8d1555d5-aea0-42d9-83f8-2a2b953c88e9",
      "metadata": {
        "colab": {
          "base_uri": "https://localhost:8080/",
          "height": 467
        },
        "id": "8d1555d5-aea0-42d9-83f8-2a2b953c88e9",
        "outputId": "3017c91c-0492-4b54-a5c4-f13ddf52c235"
      },
      "outputs": [
        {
          "data": {
            "text/plain": [
              "<Axes: xlabel='Sex', ylabel='count'>"
            ]
          },
          "execution_count": 18,
          "metadata": {},
          "output_type": "execute_result"
        },
        {
          "data": {
            "image/png": "[encoded data removed]",
            "text/plain": [
              "<Figure size 640x480 with 1 Axes>"
            ]
          },
          "metadata": {},
          "output_type": "display_data"
        }
      ],
      "source": [
        "sns.countplot(x = df['Sex'])"
      ]
    },
    {
      "cell_type": "code",
      "execution_count": 19,
      "id": "e86d4674-3166-4a94-a2fd-b61429717e10",
      "metadata": {
        "colab": {
          "base_uri": "https://localhost:8080/",
          "height": 467
        },
        "id": "e86d4674-3166-4a94-a2fd-b61429717e10",
        "outputId": "1c38dbbb-31c0-40ba-f229-d9694d9dec98"
      },
      "outputs": [
        {
          "data": {
            "text/plain": [
              "<Axes: xlabel='ChestPainType', ylabel='count'>"
            ]
          },
          "execution_count": 19,
          "metadata": {},
          "output_type": "execute_result"
        },
        {
          "data": {
            "image/png": "[encoded data removed]",
            "text/plain": [
              "<Figure size 640x480 with 1 Axes>"
            ]
          },
          "metadata": {},
          "output_type": "display_data"
        }
      ],
      "source": [
        "sns.countplot(x = df['ChestPainType'],hue = df['HeartDisease'])\n"
      ]
    },
    {
      "cell_type": "code",
      "execution_count": 20,
      "id": "05179243-22fa-4d0a-ba3b-449aa86bd22b",
      "metadata": {
        "colab": {
          "base_uri": "https://localhost:8080/",
          "height": 467
        },
        "id": "05179243-22fa-4d0a-ba3b-449aa86bd22b",
        "outputId": "e17d7bff-86a2-4907-cff2-40f9e3e31274"
      },
      "outputs": [
        {
          "data": {
            "text/plain": [
              "<Axes: xlabel='FastingBS', ylabel='count'>"
            ]
          },
          "execution_count": 20,
          "metadata": {},
          "output_type": "execute_result"
        },
        {
          "data": {
            "image/png": "[encoded data removed]",
            "text/plain": [
              "<Figure size 640x480 with 1 Axes>"
            ]
          },
          "metadata": {},
          "output_type": "display_data"
        }
      ],
      "source": [
        "sns.countplot(x = df['FastingBS'],hue = df['HeartDisease'])\n"
      ]
    },
    {
      "cell_type": "code",
      "execution_count": 21,
      "id": "a37a16d3-4eed-44e4-aa32-ceaa7b9a1707",
      "metadata": {
        "colab": {
          "base_uri": "https://localhost:8080/",
          "height": 467
        },
        "id": "a37a16d3-4eed-44e4-aa32-ceaa7b9a1707",
        "outputId": "8d6bc955-b921-4471-9a0a-e88caac33cf7"
      },
      "outputs": [
        {
          "data": {
            "text/plain": [
              "<Axes: xlabel='HeartDisease', ylabel='Cholesterol'>"
            ]
          },
          "execution_count": 21,
          "metadata": {},
          "output_type": "execute_result"
        },
        {
          "data": {
            "image/png": "[encoded data removed]",
            "text/plain": [
              "<Figure size 640x480 with 1 Axes>"
            ]
          },
          "metadata": {},
          "output_type": "display_data"
        }
      ],
      "source": [
        "sns.boxplot(x='HeartDisease', y='Cholesterol', data=df)"
      ]
    },
    {
      "cell_type": "code",
      "execution_count": 22,
      "id": "73b62e03-5e46-4642-8a40-33d73e14c466",
      "metadata": {
        "colab": {
          "base_uri": "https://localhost:8080/",
          "height": 467
        },
        "id": "73b62e03-5e46-4642-8a40-33d73e14c466",
        "outputId": "815172bd-f974-48fb-fa9f-590644038b23"
      },
      "outputs": [
        {
          "data": {
            "text/plain": [
              "<Axes: xlabel='HeartDisease', ylabel='Age'>"
            ]
          },
          "execution_count": 22,
          "metadata": {},
          "output_type": "execute_result"
        },
        {
          "data": {
            "image/png": "[encoded data removed]",
            "text/plain": [
              "<Figure size 640x480 with 1 Axes>"
            ]
          },
          "metadata": {},
          "output_type": "display_data"
        }
      ],
      "source": [
        "sns.violinplot(x='HeartDisease', y='Age', data=df)"
      ]
    },
    {
      "cell_type": "code",
      "execution_count": 23,
      "id": "0cdd7be0-0640-4fb7-b6b7-eb0484dbd7b4",
      "metadata": {
        "colab": {
          "base_uri": "https://localhost:8080/",
          "height": 533
        },
        "id": "0cdd7be0-0640-4fb7-b6b7-eb0484dbd7b4",
        "outputId": "0cfd25ea-4c4b-49ba-d645-d9953712155d"
      },
      "outputs": [
        {
          "data": {
            "text/plain": [
              "<Axes: >"
            ]
          },
          "execution_count": 23,
          "metadata": {},
          "output_type": "execute_result"
        },
        {
          "data": {
            "image/png": "[encoded data removed]",
            "text/plain": [
              "<Figure size 640x480 with 2 Axes>"
            ]
          },
          "metadata": {},
          "output_type": "display_data"
        }
      ],
      "source": [
        "sns.heatmap(df.corr(numeric_only=True), annot=True)"
      ]
    },
    {
      "cell_type": "markdown",
      "id": "746c7d8d-a700-478b-91cb-4f486e73dcf0",
      "metadata": {
        "id": "746c7d8d-a700-478b-91cb-4f486e73dcf0"
      },
      "source": [
        "# DATA PReprocessing and cleaning"
      ]
    },
    {
      "cell_type": "code",
      "execution_count": 24,
      "id": "6065c245-2f9f-4e23-884a-6748ef98f25f",
      "metadata": {
        "colab": {
          "base_uri": "https://localhost:8080/",
          "height": 226
        },
        "id": "6065c245-2f9f-4e23-884a-6748ef98f25f",
        "outputId": "a83166f7-329c-4c61-d698-e3677feb5eae"
      },
      "outputs": [
        {
          "data": {
            "application/vnd.microsoft.datawrangler.viewer.v0+json": {
              "columns": [
                {
                  "name": "index",
                  "rawType": "int64",
                  "type": "integer"
                },
                {
                  "name": "Age",
                  "rawType": "int64",
                  "type": "integer"
                },
                {
                  "name": "Sex",
                  "rawType": "object",
                  "type": "string"
                },
                {
                  "name": "ChestPainType",
                  "rawType": "object",
                  "type": "string"
                },
                {
                  "name": "RestingBP",
                  "rawType": "float64",
                  "type": "float"
                },
                {
                  "name": "Cholesterol",
                  "rawType": "float64",
                  "type": "float"
                },
                {
                  "name": "FastingBS",
                  "rawType": "int64",
                  "type": "integer"
                },
                {
                  "name": "RestingECG",
                  "rawType": "object",
                  "type": "string"
                },
                {
                  "name": "MaxHR",
                  "rawType": "int64",
                  "type": "integer"
                },
                {
                  "name": "ExerciseAngina",
                  "rawType": "object",
                  "type": "string"
                },
                {
                  "name": "Oldpeak",
                  "rawType": "float64",
                  "type": "float"
                },
                {
                  "name": "ST_Slope",
                  "rawType": "object",
                  "type": "string"
                },
                {
                  "name": "HeartDisease",
                  "rawType": "int64",
                  "type": "integer"
                }
              ],
              "ref": "82415bf6-0b42-4600-85c6-72477eb7aabb",
              "rows": [
                [
                  "0",
                  "40",
                  "M",
                  "ATA",
                  "140.0",
                  "289.0",
                  "0",
                  "Normal",
                  "172",
                  "N",
                  "0.0",
                  "Up",
                  "0"
                ],
                [
                  "1",
                  "49",
                  "F",
                  "NAP",
                  "160.0",
                  "180.0",
                  "0",
                  "Normal",
                  "156",
                  "N",
                  "1.0",
                  "Flat",
                  "1"
                ],
                [
                  "2",
                  "37",
                  "M",
                  "ATA",
                  "130.0",
                  "283.0",
                  "0",
                  "ST",
                  "98",
                  "N",
                  "0.0",
                  "Up",
                  "0"
                ],
                [
                  "3",
                  "48",
                  "F",
                  "ASY",
                  "138.0",
                  "214.0",
                  "0",
                  "Normal",
                  "108",
                  "Y",
                  "1.5",
                  "Flat",
                  "1"
                ],
                [
                  "4",
                  "54",
                  "M",
                  "NAP",
                  "150.0",
                  "195.0",
                  "0",
                  "Normal",
                  "122",
                  "N",
                  "0.0",
                  "Up",
                  "0"
                ]
              ],
              "shape": {
                "columns": 12,
                "rows": 5
              }
            },
            "text/html": [
              "<div>\n",
              "<style scoped>\n",
              "    .dataframe tbody tr th:only-of-type {\n",
              "        vertical-align: middle;\n",
              "    }\n",
              "\n",
              "    .dataframe tbody tr th {\n",
              "        vertical-align: top;\n",
              "    }\n",
              "\n",
              "    .dataframe thead th {\n",
              "        text-align: right;\n",
              "    }\n",
              "</style>\n",
              "<table border=\"1\" class=\"dataframe\">\n",
              "  <thead>\n",
              "    <tr style=\"text-align: right;\">\n",
              "      <th></th>\n",
              "      <th>Age</th>\n",
              "      <th>Sex</th>\n",
              "      <th>ChestPainType</th>\n",
              "      <th>RestingBP</th>\n",
              "      <th>Cholesterol</th>\n",
              "      <th>FastingBS</th>\n",
              "      <th>RestingECG</th>\n",
              "      <th>MaxHR</th>\n",
              "      <th>ExerciseAngina</th>\n",
              "      <th>Oldpeak</th>\n",
              "      <th>ST_Slope</th>\n",
              "      <th>HeartDisease</th>\n",
              "    </tr>\n",
              "  </thead>\n",
              "  <tbody>\n",
              "    <tr>\n",
              "      <th>0</th>\n",
              "      <td>40</td>\n",
              "      <td>M</td>\n",
              "      <td>ATA</td>\n",
              "      <td>140.0</td>\n",
              "      <td>289.0</td>\n",
              "      <td>0</td>\n",
              "      <td>Normal</td>\n",
              "      <td>172</td>\n",
              "      <td>N</td>\n",
              "      <td>0.0</td>\n",
              "      <td>Up</td>\n",
              "      <td>0</td>\n",
              "    </tr>\n",
              "    <tr>\n",
              "      <th>1</th>\n",
              "      <td>49</td>\n",
              "      <td>F</td>\n",
              "      <td>NAP</td>\n",
              "      <td>160.0</td>\n",
              "      <td>180.0</td>\n",
              "      <td>0</td>\n",
              "      <td>Normal</td>\n",
              "      <td>156</td>\n",
              "      <td>N</td>\n",
              "      <td>1.0</td>\n",
              "      <td>Flat</td>\n",
              "      <td>1</td>\n",
              "    </tr>\n",
              "    <tr>\n",
              "      <th>2</th>\n",
              "      <td>37</td>\n",
              "      <td>M</td>\n",
              "      <td>ATA</td>\n",
              "      <td>130.0</td>\n",
              "      <td>283.0</td>\n",
              "      <td>0</td>\n",
              "      <td>ST</td>\n",
              "      <td>98</td>\n",
              "      <td>N</td>\n",
              "      <td>0.0</td>\n",
              "      <td>Up</td>\n",
              "      <td>0</td>\n",
              "    </tr>\n",
              "    <tr>\n",
              "      <th>3</th>\n",
              "      <td>48</td>\n",
              "      <td>F</td>\n",
              "      <td>ASY</td>\n",
              "      <td>138.0</td>\n",
              "      <td>214.0</td>\n",
              "      <td>0</td>\n",
              "      <td>Normal</td>\n",
              "      <td>108</td>\n",
              "      <td>Y</td>\n",
              "      <td>1.5</td>\n",
              "      <td>Flat</td>\n",
              "      <td>1</td>\n",
              "    </tr>\n",
              "    <tr>\n",
              "      <th>4</th>\n",
              "      <td>54</td>\n",
              "      <td>M</td>\n",
              "      <td>NAP</td>\n",
              "      <td>150.0</td>\n",
              "      <td>195.0</td>\n",
              "      <td>0</td>\n",
              "      <td>Normal</td>\n",
              "      <td>122</td>\n",
              "      <td>N</td>\n",
              "      <td>0.0</td>\n",
              "      <td>Up</td>\n",
              "      <td>0</td>\n",
              "    </tr>\n",
              "  </tbody>\n",
              "</table>\n",
              "</div>"
            ],
            "text/plain": [
              "   Age Sex ChestPainType  RestingBP  Cholesterol  FastingBS RestingECG  MaxHR  \\\n",
              "0   40   M           ATA      140.0        289.0          0     Normal    172   \n",
              "1   49   F           NAP      160.0        180.0          0     Normal    156   \n",
              "2   37   M           ATA      130.0        283.0          0         ST     98   \n",
              "3   48   F           ASY      138.0        214.0          0     Normal    108   \n",
              "4   54   M           NAP      150.0        195.0          0     Normal    122   \n",
              "\n",
              "  ExerciseAngina  Oldpeak ST_Slope  HeartDisease  \n",
              "0              N      0.0       Up             0  \n",
              "1              N      1.0     Flat             1  \n",
              "2              N      0.0       Up             0  \n",
              "3              Y      1.5     Flat             1  \n",
              "4              N      0.0       Up             0  "
            ]
          },
          "execution_count": 24,
          "metadata": {},
          "output_type": "execute_result"
        }
      ],
      "source": [
        "df.head()"
      ]
    },
    {
      "cell_type": "code",
      "execution_count": 25,
      "id": "4b8d3ddf-a9b3-4d92-ac3d-d1e4fe018b01",
      "metadata": {
        "id": "4b8d3ddf-a9b3-4d92-ac3d-d1e4fe018b01"
      },
      "outputs": [],
      "source": [
        "df_encoded = pd.get_dummies(df,drop_first=True)"
      ]
    },
    {
      "cell_type": "code",
      "execution_count": 26,
      "id": "154da4f0-193d-4188-b6a6-b681320a53cd",
      "metadata": {
        "colab": {
          "base_uri": "https://localhost:8080/",
          "height": 444
        },
        "id": "154da4f0-193d-4188-b6a6-b681320a53cd",
        "outputId": "eec6d525-2158-4f0a-9467-4349ebc37658"
      },
      "outputs": [
        {
          "data": {
            "application/vnd.microsoft.datawrangler.viewer.v0+json": {
              "columns": [
                {
                  "name": "index",
                  "rawType": "int64",
                  "type": "integer"
                },
                {
                  "name": "Age",
                  "rawType": "int64",
                  "type": "integer"
                },
                {
                  "name": "RestingBP",
                  "rawType": "float64",
                  "type": "float"
                },
                {
                  "name": "Cholesterol",
                  "rawType": "float64",
                  "type": "float"
                },
                {
                  "name": "FastingBS",
                  "rawType": "int64",
                  "type": "integer"
                },
                {
                  "name": "MaxHR",
                  "rawType": "int64",
                  "type": "integer"
                },
                {
                  "name": "Oldpeak",
                  "rawType": "float64",
                  "type": "float"
                },
                {
                  "name": "HeartDisease",
                  "rawType": "int64",
                  "type": "integer"
                },
                {
                  "name": "Sex_M",
                  "rawType": "bool",
                  "type": "boolean"
                },
                {
                  "name": "ChestPainType_ATA",
                  "rawType": "bool",
                  "type": "boolean"
                },
                {
                  "name": "ChestPainType_NAP",
                  "rawType": "bool",
                  "type": "boolean"
                },
                {
                  "name": "ChestPainType_TA",
                  "rawType": "bool",
                  "type": "boolean"
                },
                {
                  "name": "RestingECG_Normal",
                  "rawType": "bool",
                  "type": "boolean"
                },
                {
                  "name": "RestingECG_ST",
                  "rawType": "bool",
                  "type": "boolean"
                },
                {
                  "name": "ExerciseAngina_Y",
                  "rawType": "bool",
                  "type": "boolean"
                },
                {
                  "name": "ST_Slope_Flat",
                  "rawType": "bool",
                  "type": "boolean"
                },
                {
                  "name": "ST_Slope_Up",
                  "rawType": "bool",
                  "type": "boolean"
                }
              ],
              "ref": "41ad7fdf-a843-4612-b6bf-019ea4ecdc74",
              "rows": [
                [
                  "0",
                  "40",
                  "140.0",
                  "289.0",
                  "0",
                  "172",
                  "0.0",
                  "0",
                  "True",
                  "True",
                  "False",
                  "False",
                  "True",
                  "False",
                  "False",
                  "False",
                  "True"
                ],
                [
                  "1",
                  "49",
                  "160.0",
                  "180.0",
                  "0",
                  "156",
                  "1.0",
                  "1",
                  "False",
                  "False",
                  "True",
                  "False",
                  "True",
                  "False",
                  "False",
                  "True",
                  "False"
                ],
                [
                  "2",
                  "37",
                  "130.0",
                  "283.0",
                  "0",
                  "98",
                  "0.0",
                  "0",
                  "True",
                  "True",
                  "False",
                  "False",
                  "False",
                  "True",
                  "False",
                  "False",
                  "True"
                ],
                [
                  "3",
                  "48",
                  "138.0",
                  "214.0",
                  "0",
                  "108",
                  "1.5",
                  "1",
                  "False",
                  "False",
                  "False",
                  "False",
                  "True",
                  "False",
                  "True",
                  "True",
                  "False"
                ],
                [
                  "4",
                  "54",
                  "150.0",
                  "195.0",
                  "0",
                  "122",
                  "0.0",
                  "0",
                  "True",
                  "False",
                  "True",
                  "False",
                  "True",
                  "False",
                  "False",
                  "False",
                  "True"
                ],
                [
                  "5",
                  "39",
                  "120.0",
                  "339.0",
                  "0",
                  "170",
                  "0.0",
                  "0",
                  "True",
                  "False",
                  "True",
                  "False",
                  "True",
                  "False",
                  "False",
                  "False",
                  "True"
                ],
                [
                  "6",
                  "45",
                  "130.0",
                  "237.0",
                  "0",
                  "170",
                  "0.0",
                  "0",
                  "False",
                  "True",
                  "False",
                  "False",
                  "True",
                  "False",
                  "False",
                  "False",
                  "True"
                ],
                [
                  "7",
                  "54",
                  "110.0",
                  "208.0",
                  "0",
                  "142",
                  "0.0",
                  "0",
                  "True",
                  "True",
                  "False",
                  "False",
                  "True",
                  "False",
                  "False",
                  "False",
                  "True"
                ],
                [
                  "8",
                  "37",
                  "140.0",
                  "207.0",
                  "0",
                  "130",
                  "1.5",
                  "1",
                  "True",
                  "False",
                  "False",
                  "False",
                  "True",
                  "False",
                  "True",
                  "True",
                  "False"
                ],
                [
                  "9",
                  "48",
                  "120.0",
                  "284.0",
                  "0",
                  "120",
                  "0.0",
                  "0",
                  "False",
                  "True",
                  "False",
                  "False",
                  "True",
                  "False",
                  "False",
                  "False",
                  "True"
                ],
                [
                  "10",
                  "37",
                  "130.0",
                  "211.0",
                  "0",
                  "142",
                  "0.0",
                  "0",
                  "False",
                  "False",
                  "True",
                  "False",
                  "True",
                  "False",
                  "False",
                  "False",
                  "True"
                ],
                [
                  "11",
                  "58",
                  "136.0",
                  "164.0",
                  "0",
                  "99",
                  "2.0",
                  "1",
                  "True",
                  "True",
                  "False",
                  "False",
                  "False",
                  "True",
                  "True",
                  "True",
                  "False"
                ],
                [
                  "12",
                  "39",
                  "120.0",
                  "204.0",
                  "0",
                  "145",
                  "0.0",
                  "0",
                  "True",
                  "True",
                  "False",
                  "False",
                  "True",
                  "False",
                  "False",
                  "False",
                  "True"
                ],
                [
                  "13",
                  "49",
                  "140.0",
                  "234.0",
                  "0",
                  "140",
                  "1.0",
                  "1",
                  "True",
                  "False",
                  "False",
                  "False",
                  "True",
                  "False",
                  "True",
                  "True",
                  "False"
                ],
                [
                  "14",
                  "42",
                  "115.0",
                  "211.0",
                  "0",
                  "137",
                  "0.0",
                  "0",
                  "False",
                  "False",
                  "True",
                  "False",
                  "False",
                  "True",
                  "False",
                  "False",
                  "True"
                ],
                [
                  "15",
                  "54",
                  "120.0",
                  "273.0",
                  "0",
                  "150",
                  "1.5",
                  "0",
                  "False",
                  "True",
                  "False",
                  "False",
                  "True",
                  "False",
                  "False",
                  "True",
                  "False"
                ],
                [
                  "16",
                  "38",
                  "110.0",
                  "196.0",
                  "0",
                  "166",
                  "0.0",
                  "1",
                  "True",
                  "False",
                  "False",
                  "False",
                  "True",
                  "False",
                  "False",
                  "True",
                  "False"
                ],
                [
                  "17",
                  "43",
                  "120.0",
                  "201.0",
                  "0",
                  "165",
                  "0.0",
                  "0",
                  "False",
                  "True",
                  "False",
                  "False",
                  "True",
                  "False",
                  "False",
                  "False",
                  "True"
                ],
                [
                  "18",
                  "60",
                  "100.0",
                  "248.0",
                  "0",
                  "125",
                  "1.0",
                  "1",
                  "True",
                  "False",
                  "False",
                  "False",
                  "True",
                  "False",
                  "False",
                  "True",
                  "False"
                ],
                [
                  "19",
                  "36",
                  "120.0",
                  "267.0",
                  "0",
                  "160",
                  "3.0",
                  "1",
                  "True",
                  "True",
                  "False",
                  "False",
                  "True",
                  "False",
                  "False",
                  "True",
                  "False"
                ],
                [
                  "20",
                  "43",
                  "100.0",
                  "223.0",
                  "0",
                  "142",
                  "0.0",
                  "0",
                  "False",
                  "False",
                  "False",
                  "True",
                  "True",
                  "False",
                  "False",
                  "False",
                  "True"
                ],
                [
                  "21",
                  "44",
                  "120.0",
                  "184.0",
                  "0",
                  "142",
                  "1.0",
                  "0",
                  "True",
                  "True",
                  "False",
                  "False",
                  "True",
                  "False",
                  "False",
                  "True",
                  "False"
                ],
                [
                  "22",
                  "49",
                  "124.0",
                  "201.0",
                  "0",
                  "164",
                  "0.0",
                  "0",
                  "False",
                  "True",
                  "False",
                  "False",
                  "True",
                  "False",
                  "False",
                  "False",
                  "True"
                ],
                [
                  "23",
                  "44",
                  "150.0",
                  "288.0",
                  "0",
                  "150",
                  "3.0",
                  "1",
                  "True",
                  "True",
                  "False",
                  "False",
                  "True",
                  "False",
                  "True",
                  "True",
                  "False"
                ],
                [
                  "24",
                  "40",
                  "130.0",
                  "215.0",
                  "0",
                  "138",
                  "0.0",
                  "0",
                  "True",
                  "False",
                  "True",
                  "False",
                  "True",
                  "False",
                  "False",
                  "False",
                  "True"
                ],
                [
                  "25",
                  "36",
                  "130.0",
                  "209.0",
                  "0",
                  "178",
                  "0.0",
                  "0",
                  "True",
                  "False",
                  "True",
                  "False",
                  "True",
                  "False",
                  "False",
                  "False",
                  "True"
                ],
                [
                  "26",
                  "53",
                  "124.0",
                  "260.0",
                  "0",
                  "112",
                  "3.0",
                  "0",
                  "True",
                  "False",
                  "False",
                  "False",
                  "False",
                  "True",
                  "True",
                  "True",
                  "False"
                ],
                [
                  "27",
                  "52",
                  "120.0",
                  "284.0",
                  "0",
                  "118",
                  "0.0",
                  "0",
                  "True",
                  "True",
                  "False",
                  "False",
                  "True",
                  "False",
                  "False",
                  "False",
                  "True"
                ],
                [
                  "28",
                  "53",
                  "113.0",
                  "468.0",
                  "0",
                  "127",
                  "0.0",
                  "0",
                  "False",
                  "True",
                  "False",
                  "False",
                  "True",
                  "False",
                  "False",
                  "False",
                  "True"
                ],
                [
                  "29",
                  "51",
                  "125.0",
                  "188.0",
                  "0",
                  "145",
                  "0.0",
                  "0",
                  "True",
                  "True",
                  "False",
                  "False",
                  "True",
                  "False",
                  "False",
                  "False",
                  "True"
                ],
                [
                  "30",
                  "53",
                  "145.0",
                  "518.0",
                  "0",
                  "130",
                  "0.0",
                  "1",
                  "True",
                  "False",
                  "True",
                  "False",
                  "True",
                  "False",
                  "False",
                  "True",
                  "False"
                ],
                [
                  "31",
                  "56",
                  "130.0",
                  "167.0",
                  "0",
                  "114",
                  "0.0",
                  "0",
                  "True",
                  "False",
                  "True",
                  "False",
                  "True",
                  "False",
                  "False",
                  "False",
                  "True"
                ],
                [
                  "32",
                  "54",
                  "125.0",
                  "224.0",
                  "0",
                  "122",
                  "2.0",
                  "1",
                  "True",
                  "False",
                  "False",
                  "False",
                  "True",
                  "False",
                  "False",
                  "True",
                  "False"
                ],
                [
                  "33",
                  "41",
                  "130.0",
                  "172.0",
                  "0",
                  "130",
                  "2.0",
                  "1",
                  "True",
                  "False",
                  "False",
                  "False",
                  "False",
                  "True",
                  "False",
                  "True",
                  "False"
                ],
                [
                  "34",
                  "43",
                  "150.0",
                  "186.0",
                  "0",
                  "154",
                  "0.0",
                  "0",
                  "False",
                  "True",
                  "False",
                  "False",
                  "True",
                  "False",
                  "False",
                  "False",
                  "True"
                ],
                [
                  "35",
                  "32",
                  "125.0",
                  "254.0",
                  "0",
                  "155",
                  "0.0",
                  "0",
                  "True",
                  "True",
                  "False",
                  "False",
                  "True",
                  "False",
                  "False",
                  "False",
                  "True"
                ],
                [
                  "36",
                  "65",
                  "140.0",
                  "306.0",
                  "1",
                  "87",
                  "1.5",
                  "1",
                  "True",
                  "False",
                  "False",
                  "False",
                  "True",
                  "False",
                  "True",
                  "True",
                  "False"
                ],
                [
                  "37",
                  "41",
                  "110.0",
                  "250.0",
                  "0",
                  "142",
                  "0.0",
                  "0",
                  "False",
                  "True",
                  "False",
                  "False",
                  "False",
                  "True",
                  "False",
                  "False",
                  "True"
                ],
                [
                  "38",
                  "48",
                  "120.0",
                  "177.0",
                  "1",
                  "148",
                  "0.0",
                  "0",
                  "False",
                  "True",
                  "False",
                  "False",
                  "False",
                  "True",
                  "False",
                  "False",
                  "True"
                ],
                [
                  "39",
                  "48",
                  "150.0",
                  "227.0",
                  "0",
                  "130",
                  "1.0",
                  "0",
                  "False",
                  "False",
                  "False",
                  "False",
                  "True",
                  "False",
                  "True",
                  "True",
                  "False"
                ],
                [
                  "40",
                  "54",
                  "150.0",
                  "230.0",
                  "0",
                  "130",
                  "0.0",
                  "0",
                  "False",
                  "True",
                  "False",
                  "False",
                  "True",
                  "False",
                  "False",
                  "False",
                  "True"
                ],
                [
                  "41",
                  "54",
                  "130.0",
                  "294.0",
                  "0",
                  "100",
                  "0.0",
                  "1",
                  "False",
                  "False",
                  "True",
                  "False",
                  "False",
                  "True",
                  "True",
                  "True",
                  "False"
                ],
                [
                  "42",
                  "35",
                  "150.0",
                  "264.0",
                  "0",
                  "168",
                  "0.0",
                  "0",
                  "True",
                  "True",
                  "False",
                  "False",
                  "True",
                  "False",
                  "False",
                  "False",
                  "True"
                ],
                [
                  "43",
                  "52",
                  "140.0",
                  "259.0",
                  "0",
                  "170",
                  "0.0",
                  "0",
                  "True",
                  "False",
                  "True",
                  "False",
                  "False",
                  "True",
                  "False",
                  "False",
                  "True"
                ],
                [
                  "44",
                  "43",
                  "120.0",
                  "175.0",
                  "0",
                  "120",
                  "1.0",
                  "1",
                  "True",
                  "False",
                  "False",
                  "False",
                  "True",
                  "False",
                  "True",
                  "True",
                  "False"
                ],
                [
                  "45",
                  "59",
                  "130.0",
                  "318.0",
                  "0",
                  "120",
                  "1.0",
                  "0",
                  "True",
                  "False",
                  "True",
                  "False",
                  "True",
                  "False",
                  "True",
                  "True",
                  "False"
                ],
                [
                  "46",
                  "37",
                  "120.0",
                  "223.0",
                  "0",
                  "168",
                  "0.0",
                  "0",
                  "True",
                  "False",
                  "False",
                  "False",
                  "True",
                  "False",
                  "False",
                  "False",
                  "True"
                ],
                [
                  "47",
                  "50",
                  "140.0",
                  "216.0",
                  "0",
                  "170",
                  "0.0",
                  "0",
                  "True",
                  "True",
                  "False",
                  "False",
                  "True",
                  "False",
                  "False",
                  "False",
                  "True"
                ],
                [
                  "48",
                  "36",
                  "112.0",
                  "340.0",
                  "0",
                  "184",
                  "1.0",
                  "0",
                  "True",
                  "False",
                  "True",
                  "False",
                  "True",
                  "False",
                  "False",
                  "True",
                  "False"
                ],
                [
                  "49",
                  "41",
                  "110.0",
                  "289.0",
                  "0",
                  "170",
                  "0.0",
                  "1",
                  "True",
                  "False",
                  "False",
                  "False",
                  "True",
                  "False",
                  "False",
                  "True",
                  "False"
                ]
              ],
              "shape": {
                "columns": 16,
                "rows": 918
              }
            },
            "text/html": [
              "<div>\n",
              "<style scoped>\n",
              "    .dataframe tbody tr th:only-of-type {\n",
              "        vertical-align: middle;\n",
              "    }\n",
              "\n",
              "    .dataframe tbody tr th {\n",
              "        vertical-align: top;\n",
              "    }\n",
              "\n",
              "    .dataframe thead th {\n",
              "        text-align: right;\n",
              "    }\n",
              "</style>\n",
              "<table border=\"1\" class=\"dataframe\">\n",
              "  <thead>\n",
              "    <tr style=\"text-align: right;\">\n",
              "      <th></th>\n",
              "      <th>Age</th>\n",
              "      <th>RestingBP</th>\n",
              "      <th>Cholesterol</th>\n",
              "      <th>FastingBS</th>\n",
              "      <th>MaxHR</th>\n",
              "      <th>Oldpeak</th>\n",
              "      <th>HeartDisease</th>\n",
              "      <th>Sex_M</th>\n",
              "      <th>ChestPainType_ATA</th>\n",
              "      <th>ChestPainType_NAP</th>\n",
              "      <th>ChestPainType_TA</th>\n",
              "      <th>RestingECG_Normal</th>\n",
              "      <th>RestingECG_ST</th>\n",
              "      <th>ExerciseAngina_Y</th>\n",
              "      <th>ST_Slope_Flat</th>\n",
              "      <th>ST_Slope_Up</th>\n",
              "    </tr>\n",
              "  </thead>\n",
              "  <tbody>\n",
              "    <tr>\n",
              "      <th>0</th>\n",
              "      <td>40</td>\n",
              "      <td>140.0</td>\n",
              "      <td>289.0</td>\n",
              "      <td>0</td>\n",
              "      <td>172</td>\n",
              "      <td>0.0</td>\n",
              "      <td>0</td>\n",
              "      <td>True</td>\n",
              "      <td>True</td>\n",
              "      <td>False</td>\n",
              "      <td>False</td>\n",
              "      <td>True</td>\n",
              "      <td>False</td>\n",
              "      <td>False</td>\n",
              "      <td>False</td>\n",
              "      <td>True</td>\n",
              "    </tr>\n",
              "    <tr>\n",
              "      <th>1</th>\n",
              "      <td>49</td>\n",
              "      <td>160.0</td>\n",
              "      <td>180.0</td>\n",
              "      <td>0</td>\n",
              "      <td>156</td>\n",
              "      <td>1.0</td>\n",
              "      <td>1</td>\n",
              "      <td>False</td>\n",
              "      <td>False</td>\n",
              "      <td>True</td>\n",
              "      <td>False</td>\n",
              "      <td>True</td>\n",
              "      <td>False</td>\n",
              "      <td>False</td>\n",
              "      <td>True</td>\n",
              "      <td>False</td>\n",
              "    </tr>\n",
              "    <tr>\n",
              "      <th>2</th>\n",
              "      <td>37</td>\n",
              "      <td>130.0</td>\n",
              "      <td>283.0</td>\n",
              "      <td>0</td>\n",
              "      <td>98</td>\n",
              "      <td>0.0</td>\n",
              "      <td>0</td>\n",
              "      <td>True</td>\n",
              "      <td>True</td>\n",
              "      <td>False</td>\n",
              "      <td>False</td>\n",
              "      <td>False</td>\n",
              "      <td>True</td>\n",
              "      <td>False</td>\n",
              "      <td>False</td>\n",
              "      <td>True</td>\n",
              "    </tr>\n",
              "    <tr>\n",
              "      <th>3</th>\n",
              "      <td>48</td>\n",
              "      <td>138.0</td>\n",
              "      <td>214.0</td>\n",
              "      <td>0</td>\n",
              "      <td>108</td>\n",
              "      <td>1.5</td>\n",
              "      <td>1</td>\n",
              "      <td>False</td>\n",
              "      <td>False</td>\n",
              "      <td>False</td>\n",
              "      <td>False</td>\n",
              "      <td>True</td>\n",
              "      <td>False</td>\n",
              "      <td>True</td>\n",
              "      <td>True</td>\n",
              "      <td>False</td>\n",
              "    </tr>\n",
              "    <tr>\n",
              "      <th>4</th>\n",
              "      <td>54</td>\n",
              "      <td>150.0</td>\n",
              "      <td>195.0</td>\n",
              "      <td>0</td>\n",
              "      <td>122</td>\n",
              "      <td>0.0</td>\n",
              "      <td>0</td>\n",
              "      <td>True</td>\n",
              "      <td>False</td>\n",
              "      <td>True</td>\n",
              "      <td>False</td>\n",
              "      <td>True</td>\n",
              "      <td>False</td>\n",
              "      <td>False</td>\n",
              "      <td>False</td>\n",
              "      <td>True</td>\n",
              "    </tr>\n",
              "    <tr>\n",
              "      <th>...</th>\n",
              "      <td>...</td>\n",
              "      <td>...</td>\n",
              "      <td>...</td>\n",
              "      <td>...</td>\n",
              "      <td>...</td>\n",
              "      <td>...</td>\n",
              "      <td>...</td>\n",
              "      <td>...</td>\n",
              "      <td>...</td>\n",
              "      <td>...</td>\n",
              "      <td>...</td>\n",
              "      <td>...</td>\n",
              "      <td>...</td>\n",
              "      <td>...</td>\n",
              "      <td>...</td>\n",
              "      <td>...</td>\n",
              "    </tr>\n",
              "    <tr>\n",
              "      <th>913</th>\n",
              "      <td>45</td>\n",
              "      <td>110.0</td>\n",
              "      <td>264.0</td>\n",
              "      <td>0</td>\n",
              "      <td>132</td>\n",
              "      <td>1.2</td>\n",
              "      <td>1</td>\n",
              "      <td>True</td>\n",
              "      <td>False</td>\n",
              "      <td>False</td>\n",
              "      <td>True</td>\n",
              "      <td>True</td>\n",
              "      <td>False</td>\n",
              "      <td>False</td>\n",
              "      <td>True</td>\n",
              "      <td>False</td>\n",
              "    </tr>\n",
              "    <tr>\n",
              "      <th>914</th>\n",
              "      <td>68</td>\n",
              "      <td>144.0</td>\n",
              "      <td>193.0</td>\n",
              "      <td>1</td>\n",
              "      <td>141</td>\n",
              "      <td>3.4</td>\n",
              "      <td>1</td>\n",
              "      <td>True</td>\n",
              "      <td>False</td>\n",
              "      <td>False</td>\n",
              "      <td>False</td>\n",
              "      <td>True</td>\n",
              "      <td>False</td>\n",
              "      <td>False</td>\n",
              "      <td>True</td>\n",
              "      <td>False</td>\n",
              "    </tr>\n",
              "    <tr>\n",
              "      <th>915</th>\n",
              "      <td>57</td>\n",
              "      <td>130.0</td>\n",
              "      <td>131.0</td>\n",
              "      <td>0</td>\n",
              "      <td>115</td>\n",
              "      <td>1.2</td>\n",
              "      <td>1</td>\n",
              "      <td>True</td>\n",
              "      <td>False</td>\n",
              "      <td>False</td>\n",
              "      <td>False</td>\n",
              "      <td>True</td>\n",
              "      <td>False</td>\n",
              "      <td>True</td>\n",
              "      <td>True</td>\n",
              "      <td>False</td>\n",
              "    </tr>\n",
              "    <tr>\n",
              "      <th>916</th>\n",
              "      <td>57</td>\n",
              "      <td>130.0</td>\n",
              "      <td>236.0</td>\n",
              "      <td>0</td>\n",
              "      <td>174</td>\n",
              "      <td>0.0</td>\n",
              "      <td>1</td>\n",
              "      <td>False</td>\n",
              "      <td>True</td>\n",
              "      <td>False</td>\n",
              "      <td>False</td>\n",
              "      <td>False</td>\n",
              "      <td>False</td>\n",
              "      <td>False</td>\n",
              "      <td>True</td>\n",
              "      <td>False</td>\n",
              "    </tr>\n",
              "    <tr>\n",
              "      <th>917</th>\n",
              "      <td>38</td>\n",
              "      <td>138.0</td>\n",
              "      <td>175.0</td>\n",
              "      <td>0</td>\n",
              "      <td>173</td>\n",
              "      <td>0.0</td>\n",
              "      <td>0</td>\n",
              "      <td>True</td>\n",
              "      <td>False</td>\n",
              "      <td>True</td>\n",
              "      <td>False</td>\n",
              "      <td>True</td>\n",
              "      <td>False</td>\n",
              "      <td>False</td>\n",
              "      <td>False</td>\n",
              "      <td>True</td>\n",
              "    </tr>\n",
              "  </tbody>\n",
              "</table>\n",
              "<p>918 rows × 16 columns</p>\n",
              "</div>"
            ],
            "text/plain": [
              "     Age  RestingBP  Cholesterol  FastingBS  MaxHR  Oldpeak  HeartDisease  \\\n",
              "0     40      140.0        289.0          0    172      0.0             0   \n",
              "1     49      160.0        180.0          0    156      1.0             1   \n",
              "2     37      130.0        283.0          0     98      0.0             0   \n",
              "3     48      138.0        214.0          0    108      1.5             1   \n",
              "4     54      150.0        195.0          0    122      0.0             0   \n",
              "..   ...        ...          ...        ...    ...      ...           ...   \n",
              "913   45      110.0        264.0          0    132      1.2             1   \n",
              "914   68      144.0        193.0          1    141      3.4             1   \n",
              "915   57      130.0        131.0          0    115      1.2             1   \n",
              "916   57      130.0        236.0          0    174      0.0             1   \n",
              "917   38      138.0        175.0          0    173      0.0             0   \n",
              "\n",
              "     Sex_M  ChestPainType_ATA  ChestPainType_NAP  ChestPainType_TA  \\\n",
              "0     True               True              False             False   \n",
              "1    False              False               True             False   \n",
              "2     True               True              False             False   \n",
              "3    False              False              False             False   \n",
              "4     True              False               True             False   \n",
              "..     ...                ...                ...               ...   \n",
              "913   True              False              False              True   \n",
              "914   True              False              False             False   \n",
              "915   True              False              False             False   \n",
              "916  False               True              False             False   \n",
              "917   True              False               True             False   \n",
              "\n",
              "     RestingECG_Normal  RestingECG_ST  ExerciseAngina_Y  ST_Slope_Flat  \\\n",
              "0                 True          False             False          False   \n",
              "1                 True          False             False           True   \n",
              "2                False           True             False          False   \n",
              "3                 True          False              True           True   \n",
              "4                 True          False             False          False   \n",
              "..                 ...            ...               ...            ...   \n",
              "913               True          False             False           True   \n",
              "914               True          False             False           True   \n",
              "915               True          False              True           True   \n",
              "916              False          False             False           True   \n",
              "917               True          False             False          False   \n",
              "\n",
              "     ST_Slope_Up  \n",
              "0           True  \n",
              "1          False  \n",
              "2           True  \n",
              "3          False  \n",
              "4           True  \n",
              "..           ...  \n",
              "913        False  \n",
              "914        False  \n",
              "915        False  \n",
              "916        False  \n",
              "917         True  \n",
              "\n",
              "[918 rows x 16 columns]"
            ]
          },
          "execution_count": 26,
          "metadata": {},
          "output_type": "execute_result"
        }
      ],
      "source": [
        "df_encoded"
      ]
    },
    {
      "cell_type": "code",
      "execution_count": 27,
      "id": "0db29368-8dfc-4f1b-aeff-e6085f753be1",
      "metadata": {
        "id": "0db29368-8dfc-4f1b-aeff-e6085f753be1"
      },
      "outputs": [],
      "source": [
        "df_encoded = df_encoded.astype(int)"
      ]
    },
    {
      "cell_type": "code",
      "execution_count": 28,
      "id": "2957a6a3-9c0e-44c6-aae3-66960ac94b1b",
      "metadata": {
        "colab": {
          "base_uri": "https://localhost:8080/",
          "height": 444
        },
        "id": "2957a6a3-9c0e-44c6-aae3-66960ac94b1b",
        "outputId": "2c6e33e4-f6e0-4f73-dff1-b70d621cad0a"
      },
      "outputs": [
        {
          "data": {
            "application/vnd.microsoft.datawrangler.viewer.v0+json": {
              "columns": [
                {
                  "name": "index",
                  "rawType": "int64",
                  "type": "integer"
                },
                {
                  "name": "Age",
                  "rawType": "int32",
                  "type": "integer"
                },
                {
                  "name": "RestingBP",
                  "rawType": "int32",
                  "type": "integer"
                },
                {
                  "name": "Cholesterol",
                  "rawType": "int32",
                  "type": "integer"
                },
                {
                  "name": "FastingBS",
                  "rawType": "int32",
                  "type": "integer"
                },
                {
                  "name": "MaxHR",
                  "rawType": "int32",
                  "type": "integer"
                },
                {
                  "name": "Oldpeak",
                  "rawType": "int32",
                  "type": "integer"
                },
                {
                  "name": "HeartDisease",
                  "rawType": "int32",
                  "type": "integer"
                },
                {
                  "name": "Sex_M",
                  "rawType": "int32",
                  "type": "integer"
                },
                {
                  "name": "ChestPainType_ATA",
                  "rawType": "int32",
                  "type": "integer"
                },
                {
                  "name": "ChestPainType_NAP",
                  "rawType": "int32",
                  "type": "integer"
                },
                {
                  "name": "ChestPainType_TA",
                  "rawType": "int32",
                  "type": "integer"
                },
                {
                  "name": "RestingECG_Normal",
                  "rawType": "int32",
                  "type": "integer"
                },
                {
                  "name": "RestingECG_ST",
                  "rawType": "int32",
                  "type": "integer"
                },
                {
                  "name": "ExerciseAngina_Y",
                  "rawType": "int32",
                  "type": "integer"
                },
                {
                  "name": "ST_Slope_Flat",
                  "rawType": "int32",
                  "type": "integer"
                },
                {
                  "name": "ST_Slope_Up",
                  "rawType": "int32",
                  "type": "integer"
                }
              ],
              "ref": "f8a0b908-75d6-4dde-a539-7bcc1039b54e",
              "rows": [
                [
                  "0",
                  "40",
                  "140",
                  "289",
                  "0",
                  "172",
                  "0",
                  "0",
                  "1",
                  "1",
                  "0",
                  "0",
                  "1",
                  "0",
                  "0",
                  "0",
                  "1"
                ],
                [
                  "1",
                  "49",
                  "160",
                  "180",
                  "0",
                  "156",
                  "1",
                  "1",
                  "0",
                  "0",
                  "1",
                  "0",
                  "1",
                  "0",
                  "0",
                  "1",
                  "0"
                ],
                [
                  "2",
                  "37",
                  "130",
                  "283",
                  "0",
                  "98",
                  "0",
                  "0",
                  "1",
                  "1",
                  "0",
                  "0",
                  "0",
                  "1",
                  "0",
                  "0",
                  "1"
                ],
                [
                  "3",
                  "48",
                  "138",
                  "214",
                  "0",
                  "108",
                  "1",
                  "1",
                  "0",
                  "0",
                  "0",
                  "0",
                  "1",
                  "0",
                  "1",
                  "1",
                  "0"
                ],
                [
                  "4",
                  "54",
                  "150",
                  "195",
                  "0",
                  "122",
                  "0",
                  "0",
                  "1",
                  "0",
                  "1",
                  "0",
                  "1",
                  "0",
                  "0",
                  "0",
                  "1"
                ],
                [
                  "5",
                  "39",
                  "120",
                  "339",
                  "0",
                  "170",
                  "0",
                  "0",
                  "1",
                  "0",
                  "1",
                  "0",
                  "1",
                  "0",
                  "0",
                  "0",
                  "1"
                ],
                [
                  "6",
                  "45",
                  "130",
                  "237",
                  "0",
                  "170",
                  "0",
                  "0",
                  "0",
                  "1",
                  "0",
                  "0",
                  "1",
                  "0",
                  "0",
                  "0",
                  "1"
                ],
                [
                  "7",
                  "54",
                  "110",
                  "208",
                  "0",
                  "142",
                  "0",
                  "0",
                  "1",
                  "1",
                  "0",
                  "0",
                  "1",
                  "0",
                  "0",
                  "0",
                  "1"
                ],
                [
                  "8",
                  "37",
                  "140",
                  "207",
                  "0",
                  "130",
                  "1",
                  "1",
                  "1",
                  "0",
                  "0",
                  "0",
                  "1",
                  "0",
                  "1",
                  "1",
                  "0"
                ],
                [
                  "9",
                  "48",
                  "120",
                  "284",
                  "0",
                  "120",
                  "0",
                  "0",
                  "0",
                  "1",
                  "0",
                  "0",
                  "1",
                  "0",
                  "0",
                  "0",
                  "1"
                ],
                [
                  "10",
                  "37",
                  "130",
                  "211",
                  "0",
                  "142",
                  "0",
                  "0",
                  "0",
                  "0",
                  "1",
                  "0",
                  "1",
                  "0",
                  "0",
                  "0",
                  "1"
                ],
                [
                  "11",
                  "58",
                  "136",
                  "164",
                  "0",
                  "99",
                  "2",
                  "1",
                  "1",
                  "1",
                  "0",
                  "0",
                  "0",
                  "1",
                  "1",
                  "1",
                  "0"
                ],
                [
                  "12",
                  "39",
                  "120",
                  "204",
                  "0",
                  "145",
                  "0",
                  "0",
                  "1",
                  "1",
                  "0",
                  "0",
                  "1",
                  "0",
                  "0",
                  "0",
                  "1"
                ],
                [
                  "13",
                  "49",
                  "140",
                  "234",
                  "0",
                  "140",
                  "1",
                  "1",
                  "1",
                  "0",
                  "0",
                  "0",
                  "1",
                  "0",
                  "1",
                  "1",
                  "0"
                ],
                [
                  "14",
                  "42",
                  "115",
                  "211",
                  "0",
                  "137",
                  "0",
                  "0",
                  "0",
                  "0",
                  "1",
                  "0",
                  "0",
                  "1",
                  "0",
                  "0",
                  "1"
                ],
                [
                  "15",
                  "54",
                  "120",
                  "273",
                  "0",
                  "150",
                  "1",
                  "0",
                  "0",
                  "1",
                  "0",
                  "0",
                  "1",
                  "0",
                  "0",
                  "1",
                  "0"
                ],
                [
                  "16",
                  "38",
                  "110",
                  "196",
                  "0",
                  "166",
                  "0",
                  "1",
                  "1",
                  "0",
                  "0",
                  "0",
                  "1",
                  "0",
                  "0",
                  "1",
                  "0"
                ],
                [
                  "17",
                  "43",
                  "120",
                  "201",
                  "0",
                  "165",
                  "0",
                  "0",
                  "0",
                  "1",
                  "0",
                  "0",
                  "1",
                  "0",
                  "0",
                  "0",
                  "1"
                ],
                [
                  "18",
                  "60",
                  "100",
                  "248",
                  "0",
                  "125",
                  "1",
                  "1",
                  "1",
                  "0",
                  "0",
                  "0",
                  "1",
                  "0",
                  "0",
                  "1",
                  "0"
                ],
                [
                  "19",
                  "36",
                  "120",
                  "267",
                  "0",
                  "160",
                  "3",
                  "1",
                  "1",
                  "1",
                  "0",
                  "0",
                  "1",
                  "0",
                  "0",
                  "1",
                  "0"
                ],
                [
                  "20",
                  "43",
                  "100",
                  "223",
                  "0",
                  "142",
                  "0",
                  "0",
                  "0",
                  "0",
                  "0",
                  "1",
                  "1",
                  "0",
                  "0",
                  "0",
                  "1"
                ],
                [
                  "21",
                  "44",
                  "120",
                  "184",
                  "0",
                  "142",
                  "1",
                  "0",
                  "1",
                  "1",
                  "0",
                  "0",
                  "1",
                  "0",
                  "0",
                  "1",
                  "0"
                ],
                [
                  "22",
                  "49",
                  "124",
                  "201",
                  "0",
                  "164",
                  "0",
                  "0",
                  "0",
                  "1",
                  "0",
                  "0",
                  "1",
                  "0",
                  "0",
                  "0",
                  "1"
                ],
                [
                  "23",
                  "44",
                  "150",
                  "288",
                  "0",
                  "150",
                  "3",
                  "1",
                  "1",
                  "1",
                  "0",
                  "0",
                  "1",
                  "0",
                  "1",
                  "1",
                  "0"
                ],
                [
                  "24",
                  "40",
                  "130",
                  "215",
                  "0",
                  "138",
                  "0",
                  "0",
                  "1",
                  "0",
                  "1",
                  "0",
                  "1",
                  "0",
                  "0",
                  "0",
                  "1"
                ],
                [
                  "25",
                  "36",
                  "130",
                  "209",
                  "0",
                  "178",
                  "0",
                  "0",
                  "1",
                  "0",
                  "1",
                  "0",
                  "1",
                  "0",
                  "0",
                  "0",
                  "1"
                ],
                [
                  "26",
                  "53",
                  "124",
                  "260",
                  "0",
                  "112",
                  "3",
                  "0",
                  "1",
                  "0",
                  "0",
                  "0",
                  "0",
                  "1",
                  "1",
                  "1",
                  "0"
                ],
                [
                  "27",
                  "52",
                  "120",
                  "284",
                  "0",
                  "118",
                  "0",
                  "0",
                  "1",
                  "1",
                  "0",
                  "0",
                  "1",
                  "0",
                  "0",
                  "0",
                  "1"
                ],
                [
                  "28",
                  "53",
                  "113",
                  "468",
                  "0",
                  "127",
                  "0",
                  "0",
                  "0",
                  "1",
                  "0",
                  "0",
                  "1",
                  "0",
                  "0",
                  "0",
                  "1"
                ],
                [
                  "29",
                  "51",
                  "125",
                  "188",
                  "0",
                  "145",
                  "0",
                  "0",
                  "1",
                  "1",
                  "0",
                  "0",
                  "1",
                  "0",
                  "0",
                  "0",
                  "1"
                ],
                [
                  "30",
                  "53",
                  "145",
                  "518",
                  "0",
                  "130",
                  "0",
                  "1",
                  "1",
                  "0",
                  "1",
                  "0",
                  "1",
                  "0",
                  "0",
                  "1",
                  "0"
                ],
                [
                  "31",
                  "56",
                  "130",
                  "167",
                  "0",
                  "114",
                  "0",
                  "0",
                  "1",
                  "0",
                  "1",
                  "0",
                  "1",
                  "0",
                  "0",
                  "0",
                  "1"
                ],
                [
                  "32",
                  "54",
                  "125",
                  "224",
                  "0",
                  "122",
                  "2",
                  "1",
                  "1",
                  "0",
                  "0",
                  "0",
                  "1",
                  "0",
                  "0",
                  "1",
                  "0"
                ],
                [
                  "33",
                  "41",
                  "130",
                  "172",
                  "0",
                  "130",
                  "2",
                  "1",
                  "1",
                  "0",
                  "0",
                  "0",
                  "0",
                  "1",
                  "0",
                  "1",
                  "0"
                ],
                [
                  "34",
                  "43",
                  "150",
                  "186",
                  "0",
                  "154",
                  "0",
                  "0",
                  "0",
                  "1",
                  "0",
                  "0",
                  "1",
                  "0",
                  "0",
                  "0",
                  "1"
                ],
                [
                  "35",
                  "32",
                  "125",
                  "254",
                  "0",
                  "155",
                  "0",
                  "0",
                  "1",
                  "1",
                  "0",
                  "0",
                  "1",
                  "0",
                  "0",
                  "0",
                  "1"
                ],
                [
                  "36",
                  "65",
                  "140",
                  "306",
                  "1",
                  "87",
                  "1",
                  "1",
                  "1",
                  "0",
                  "0",
                  "0",
                  "1",
                  "0",
                  "1",
                  "1",
                  "0"
                ],
                [
                  "37",
                  "41",
                  "110",
                  "250",
                  "0",
                  "142",
                  "0",
                  "0",
                  "0",
                  "1",
                  "0",
                  "0",
                  "0",
                  "1",
                  "0",
                  "0",
                  "1"
                ],
                [
                  "38",
                  "48",
                  "120",
                  "177",
                  "1",
                  "148",
                  "0",
                  "0",
                  "0",
                  "1",
                  "0",
                  "0",
                  "0",
                  "1",
                  "0",
                  "0",
                  "1"
                ],
                [
                  "39",
                  "48",
                  "150",
                  "227",
                  "0",
                  "130",
                  "1",
                  "0",
                  "0",
                  "0",
                  "0",
                  "0",
                  "1",
                  "0",
                  "1",
                  "1",
                  "0"
                ],
                [
                  "40",
                  "54",
                  "150",
                  "230",
                  "0",
                  "130",
                  "0",
                  "0",
                  "0",
                  "1",
                  "0",
                  "0",
                  "1",
                  "0",
                  "0",
                  "0",
                  "1"
                ],
                [
                  "41",
                  "54",
                  "130",
                  "294",
                  "0",
                  "100",
                  "0",
                  "1",
                  "0",
                  "0",
                  "1",
                  "0",
                  "0",
                  "1",
                  "1",
                  "1",
                  "0"
                ],
                [
                  "42",
                  "35",
                  "150",
                  "264",
                  "0",
                  "168",
                  "0",
                  "0",
                  "1",
                  "1",
                  "0",
                  "0",
                  "1",
                  "0",
                  "0",
                  "0",
                  "1"
                ],
                [
                  "43",
                  "52",
                  "140",
                  "259",
                  "0",
                  "170",
                  "0",
                  "0",
                  "1",
                  "0",
                  "1",
                  "0",
                  "0",
                  "1",
                  "0",
                  "0",
                  "1"
                ],
                [
                  "44",
                  "43",
                  "120",
                  "175",
                  "0",
                  "120",
                  "1",
                  "1",
                  "1",
                  "0",
                  "0",
                  "0",
                  "1",
                  "0",
                  "1",
                  "1",
                  "0"
                ],
                [
                  "45",
                  "59",
                  "130",
                  "318",
                  "0",
                  "120",
                  "1",
                  "0",
                  "1",
                  "0",
                  "1",
                  "0",
                  "1",
                  "0",
                  "1",
                  "1",
                  "0"
                ],
                [
                  "46",
                  "37",
                  "120",
                  "223",
                  "0",
                  "168",
                  "0",
                  "0",
                  "1",
                  "0",
                  "0",
                  "0",
                  "1",
                  "0",
                  "0",
                  "0",
                  "1"
                ],
                [
                  "47",
                  "50",
                  "140",
                  "216",
                  "0",
                  "170",
                  "0",
                  "0",
                  "1",
                  "1",
                  "0",
                  "0",
                  "1",
                  "0",
                  "0",
                  "0",
                  "1"
                ],
                [
                  "48",
                  "36",
                  "112",
                  "340",
                  "0",
                  "184",
                  "1",
                  "0",
                  "1",
                  "0",
                  "1",
                  "0",
                  "1",
                  "0",
                  "0",
                  "1",
                  "0"
                ],
                [
                  "49",
                  "41",
                  "110",
                  "289",
                  "0",
                  "170",
                  "0",
                  "1",
                  "1",
                  "0",
                  "0",
                  "0",
                  "1",
                  "0",
                  "0",
                  "1",
                  "0"
                ]
              ],
              "shape": {
                "columns": 16,
                "rows": 918
              }
            },
            "text/html": [
              "<div>\n",
              "<style scoped>\n",
              "    .dataframe tbody tr th:only-of-type {\n",
              "        vertical-align: middle;\n",
              "    }\n",
              "\n",
              "    .dataframe tbody tr th {\n",
              "        vertical-align: top;\n",
              "    }\n",
              "\n",
              "    .dataframe thead th {\n",
              "        text-align: right;\n",
              "    }\n",
              "</style>\n",
              "<table border=\"1\" class=\"dataframe\">\n",
              "  <thead>\n",
              "    <tr style=\"text-align: right;\">\n",
              "      <th></th>\n",
              "      <th>Age</th>\n",
              "      <th>RestingBP</th>\n",
              "      <th>Cholesterol</th>\n",
              "      <th>FastingBS</th>\n",
              "      <th>MaxHR</th>\n",
              "      <th>Oldpeak</th>\n",
              "      <th>HeartDisease</th>\n",
              "      <th>Sex_M</th>\n",
              "      <th>ChestPainType_ATA</th>\n",
              "      <th>ChestPainType_NAP</th>\n",
              "      <th>ChestPainType_TA</th>\n",
              "      <th>RestingECG_Normal</th>\n",
              "      <th>RestingECG_ST</th>\n",
              "      <th>ExerciseAngina_Y</th>\n",
              "      <th>ST_Slope_Flat</th>\n",
              "      <th>ST_Slope_Up</th>\n",
              "    </tr>\n",
              "  </thead>\n",
              "  <tbody>\n",
              "    <tr>\n",
              "      <th>0</th>\n",
              "      <td>40</td>\n",
              "      <td>140</td>\n",
              "      <td>289</td>\n",
              "      <td>0</td>\n",
              "      <td>172</td>\n",
              "      <td>0</td>\n",
              "      <td>0</td>\n",
              "      <td>1</td>\n",
              "      <td>1</td>\n",
              "      <td>0</td>\n",
              "      <td>0</td>\n",
              "      <td>1</td>\n",
              "      <td>0</td>\n",
              "      <td>0</td>\n",
              "      <td>0</td>\n",
              "      <td>1</td>\n",
              "    </tr>\n",
              "    <tr>\n",
              "      <th>1</th>\n",
              "      <td>49</td>\n",
              "      <td>160</td>\n",
              "      <td>180</td>\n",
              "      <td>0</td>\n",
              "      <td>156</td>\n",
              "      <td>1</td>\n",
              "      <td>1</td>\n",
              "      <td>0</td>\n",
              "      <td>0</td>\n",
              "      <td>1</td>\n",
              "      <td>0</td>\n",
              "      <td>1</td>\n",
              "      <td>0</td>\n",
              "      <td>0</td>\n",
              "      <td>1</td>\n",
              "      <td>0</td>\n",
              "    </tr>\n",
              "    <tr>\n",
              "      <th>2</th>\n",
              "      <td>37</td>\n",
              "      <td>130</td>\n",
              "      <td>283</td>\n",
              "      <td>0</td>\n",
              "      <td>98</td>\n",
              "      <td>0</td>\n",
              "      <td>0</td>\n",
              "      <td>1</td>\n",
              "      <td>1</td>\n",
              "      <td>0</td>\n",
              "      <td>0</td>\n",
              "      <td>0</td>\n",
              "      <td>1</td>\n",
              "      <td>0</td>\n",
              "      <td>0</td>\n",
              "      <td>1</td>\n",
              "    </tr>\n",
              "    <tr>\n",
              "      <th>3</th>\n",
              "      <td>48</td>\n",
              "      <td>138</td>\n",
              "      <td>214</td>\n",
              "      <td>0</td>\n",
              "      <td>108</td>\n",
              "      <td>1</td>\n",
              "      <td>1</td>\n",
              "      <td>0</td>\n",
              "      <td>0</td>\n",
              "      <td>0</td>\n",
              "      <td>0</td>\n",
              "      <td>1</td>\n",
              "      <td>0</td>\n",
              "      <td>1</td>\n",
              "      <td>1</td>\n",
              "      <td>0</td>\n",
              "    </tr>\n",
              "    <tr>\n",
              "      <th>4</th>\n",
              "      <td>54</td>\n",
              "      <td>150</td>\n",
              "      <td>195</td>\n",
              "      <td>0</td>\n",
              "      <td>122</td>\n",
              "      <td>0</td>\n",
              "      <td>0</td>\n",
              "      <td>1</td>\n",
              "      <td>0</td>\n",
              "      <td>1</td>\n",
              "      <td>0</td>\n",
              "      <td>1</td>\n",
              "      <td>0</td>\n",
              "      <td>0</td>\n",
              "      <td>0</td>\n",
              "      <td>1</td>\n",
              "    </tr>\n",
              "    <tr>\n",
              "      <th>...</th>\n",
              "      <td>...</td>\n",
              "      <td>...</td>\n",
              "      <td>...</td>\n",
              "      <td>...</td>\n",
              "      <td>...</td>\n",
              "      <td>...</td>\n",
              "      <td>...</td>\n",
              "      <td>...</td>\n",
              "      <td>...</td>\n",
              "      <td>...</td>\n",
              "      <td>...</td>\n",
              "      <td>...</td>\n",
              "      <td>...</td>\n",
              "      <td>...</td>\n",
              "      <td>...</td>\n",
              "      <td>...</td>\n",
              "    </tr>\n",
              "    <tr>\n",
              "      <th>913</th>\n",
              "      <td>45</td>\n",
              "      <td>110</td>\n",
              "      <td>264</td>\n",
              "      <td>0</td>\n",
              "      <td>132</td>\n",
              "      <td>1</td>\n",
              "      <td>1</td>\n",
              "      <td>1</td>\n",
              "      <td>0</td>\n",
              "      <td>0</td>\n",
              "      <td>1</td>\n",
              "      <td>1</td>\n",
              "      <td>0</td>\n",
              "      <td>0</td>\n",
              "      <td>1</td>\n",
              "      <td>0</td>\n",
              "    </tr>\n",
              "    <tr>\n",
              "      <th>914</th>\n",
              "      <td>68</td>\n",
              "      <td>144</td>\n",
              "      <td>193</td>\n",
              "      <td>1</td>\n",
              "      <td>141</td>\n",
              "      <td>3</td>\n",
              "      <td>1</td>\n",
              "      <td>1</td>\n",
              "      <td>0</td>\n",
              "      <td>0</td>\n",
              "      <td>0</td>\n",
              "      <td>1</td>\n",
              "      <td>0</td>\n",
              "      <td>0</td>\n",
              "      <td>1</td>\n",
              "      <td>0</td>\n",
              "    </tr>\n",
              "    <tr>\n",
              "      <th>915</th>\n",
              "      <td>57</td>\n",
              "      <td>130</td>\n",
              "      <td>131</td>\n",
              "      <td>0</td>\n",
              "      <td>115</td>\n",
              "      <td>1</td>\n",
              "      <td>1</td>\n",
              "      <td>1</td>\n",
              "      <td>0</td>\n",
              "      <td>0</td>\n",
              "      <td>0</td>\n",
              "      <td>1</td>\n",
              "      <td>0</td>\n",
              "      <td>1</td>\n",
              "      <td>1</td>\n",
              "      <td>0</td>\n",
              "    </tr>\n",
              "    <tr>\n",
              "      <th>916</th>\n",
              "      <td>57</td>\n",
              "      <td>130</td>\n",
              "      <td>236</td>\n",
              "      <td>0</td>\n",
              "      <td>174</td>\n",
              "      <td>0</td>\n",
              "      <td>1</td>\n",
              "      <td>0</td>\n",
              "      <td>1</td>\n",
              "      <td>0</td>\n",
              "      <td>0</td>\n",
              "      <td>0</td>\n",
              "      <td>0</td>\n",
              "      <td>0</td>\n",
              "      <td>1</td>\n",
              "      <td>0</td>\n",
              "    </tr>\n",
              "    <tr>\n",
              "      <th>917</th>\n",
              "      <td>38</td>\n",
              "      <td>138</td>\n",
              "      <td>175</td>\n",
              "      <td>0</td>\n",
              "      <td>173</td>\n",
              "      <td>0</td>\n",
              "      <td>0</td>\n",
              "      <td>1</td>\n",
              "      <td>0</td>\n",
              "      <td>1</td>\n",
              "      <td>0</td>\n",
              "      <td>1</td>\n",
              "      <td>0</td>\n",
              "      <td>0</td>\n",
              "      <td>0</td>\n",
              "      <td>1</td>\n",
              "    </tr>\n",
              "  </tbody>\n",
              "</table>\n",
              "<p>918 rows × 16 columns</p>\n",
              "</div>"
            ],
            "text/plain": [
              "     Age  RestingBP  Cholesterol  FastingBS  MaxHR  Oldpeak  HeartDisease  \\\n",
              "0     40        140          289          0    172        0             0   \n",
              "1     49        160          180          0    156        1             1   \n",
              "2     37        130          283          0     98        0             0   \n",
              "3     48        138          214          0    108        1             1   \n",
              "4     54        150          195          0    122        0             0   \n",
              "..   ...        ...          ...        ...    ...      ...           ...   \n",
              "913   45        110          264          0    132        1             1   \n",
              "914   68        144          193          1    141        3             1   \n",
              "915   57        130          131          0    115        1             1   \n",
              "916   57        130          236          0    174        0             1   \n",
              "917   38        138          175          0    173        0             0   \n",
              "\n",
              "     Sex_M  ChestPainType_ATA  ChestPainType_NAP  ChestPainType_TA  \\\n",
              "0        1                  1                  0                 0   \n",
              "1        0                  0                  1                 0   \n",
              "2        1                  1                  0                 0   \n",
              "3        0                  0                  0                 0   \n",
              "4        1                  0                  1                 0   \n",
              "..     ...                ...                ...               ...   \n",
              "913      1                  0                  0                 1   \n",
              "914      1                  0                  0                 0   \n",
              "915      1                  0                  0                 0   \n",
              "916      0                  1                  0                 0   \n",
              "917      1                  0                  1                 0   \n",
              "\n",
              "     RestingECG_Normal  RestingECG_ST  ExerciseAngina_Y  ST_Slope_Flat  \\\n",
              "0                    1              0                 0              0   \n",
              "1                    1              0                 0              1   \n",
              "2                    0              1                 0              0   \n",
              "3                    1              0                 1              1   \n",
              "4                    1              0                 0              0   \n",
              "..                 ...            ...               ...            ...   \n",
              "913                  1              0                 0              1   \n",
              "914                  1              0                 0              1   \n",
              "915                  1              0                 1              1   \n",
              "916                  0              0                 0              1   \n",
              "917                  1              0                 0              0   \n",
              "\n",
              "     ST_Slope_Up  \n",
              "0              1  \n",
              "1              0  \n",
              "2              1  \n",
              "3              0  \n",
              "4              1  \n",
              "..           ...  \n",
              "913            0  \n",
              "914            0  \n",
              "915            0  \n",
              "916            0  \n",
              "917            1  \n",
              "\n",
              "[918 rows x 16 columns]"
            ]
          },
          "execution_count": 28,
          "metadata": {},
          "output_type": "execute_result"
        }
      ],
      "source": [
        "df_encoded"
      ]
    },
    {
      "cell_type": "code",
      "execution_count": 29,
      "id": "PsLU0ZCpO47R",
      "metadata": {
        "colab": {
          "base_uri": "https://localhost:8080/"
        },
        "id": "PsLU0ZCpO47R",
        "outputId": "16cffcb0-0dc0-4b7a-9a2f-8c028b4f7f99"
      },
      "outputs": [
        {
          "data": {
            "text/plain": [
              "Index(['Age', 'RestingBP', 'Cholesterol', 'FastingBS', 'MaxHR', 'Oldpeak',\n",
              "       'HeartDisease', 'Sex_M', 'ChestPainType_ATA', 'ChestPainType_NAP',\n",
              "       'ChestPainType_TA', 'RestingECG_Normal', 'RestingECG_ST',\n",
              "       'ExerciseAngina_Y', 'ST_Slope_Flat', 'ST_Slope_Up'],\n",
              "      dtype='object')"
            ]
          },
          "execution_count": 29,
          "metadata": {},
          "output_type": "execute_result"
        }
      ],
      "source": [
        "df_encoded.columns"
      ]
    },
    {
      "cell_type": "code",
      "execution_count": 30,
      "id": "ywZK4W0dP-Zz",
      "metadata": {
        "id": "ywZK4W0dP-Zz"
      },
      "outputs": [],
      "source": [
        "from sklearn.model_selection import train_test_split\n",
        "from sklearn.preprocessing import StandardScaler\n",
        "from sklearn.metrics import accuracy_score, f1_score, classification_report\n",
        "from sklearn.linear_model import LogisticRegression\n",
        "from sklearn.naive_bayes import GaussianNB\n",
        "from sklearn.tree import DecisionTreeClassifier\n",
        "from sklearn.svm import SVC\n",
        "from sklearn.neighbors import KNeighborsClassifier"
      ]
    },
    {
      "cell_type": "code",
      "execution_count": 31,
      "id": "aFni0VTwQXpj",
      "metadata": {
        "id": "aFni0VTwQXpj"
      },
      "outputs": [],
      "source": [
        "X = df_encoded.drop('HeartDisease', axis=1)\n",
        "y = df_encoded['HeartDisease']"
      ]
    },
    {
      "cell_type": "code",
      "execution_count": 32,
      "id": "1ZFOW2B4VTr-",
      "metadata": {
        "id": "1ZFOW2B4VTr-"
      },
      "outputs": [],
      "source": [
        "X_train, X_test, y_train, y_test = train_test_split(\n",
        "    X, y, stratify=y, test_size=0.2, random_state=42)"
      ]
    },
    {
      "cell_type": "code",
      "execution_count": 33,
      "id": "3n_jMHeRVXOn",
      "metadata": {
        "id": "3n_jMHeRVXOn"
      },
      "outputs": [],
      "source": [
        "scaler = StandardScaler()\n",
        "X_train_scaled = scaler.fit_transform(X_train)\n",
        "X_test_scaled = scaler.transform(X_test)"
      ]
    },
    {
      "cell_type": "code",
      "execution_count": 34,
      "id": "cgyg4r5RVr5P",
      "metadata": {
        "id": "cgyg4r5RVr5P"
      },
      "outputs": [],
      "source": [
        "models = {\n",
        "    \"Logistic Regression\": LogisticRegression(),\n",
        "    \"KNN\": KNeighborsClassifier(),\n",
        "    \"Naive Bayes\": GaussianNB(),\n",
        "    \"Decision Tree\": DecisionTreeClassifier(),\n",
        "    \"SVM (RBF Kernel)\": SVC(probability=True)\n",
        "}\n"
      ]
    },
    {
      "cell_type": "code",
      "execution_count": 35,
      "id": "8eJ5BbB6WUvi",
      "metadata": {
        "id": "8eJ5BbB6WUvi"
      },
      "outputs": [],
      "source": [
        "results = []"
      ]
    },
    {
      "cell_type": "code",
      "execution_count": 36,
      "id": "ZCL1k43hWXTj",
      "metadata": {
        "id": "ZCL1k43hWXTj"
      },
      "outputs": [],
      "source": [
        "for name, model in models.items():\n",
        "    model.fit(X_train_scaled, y_train)\n",
        "    y_pred = model.predict(X_test_scaled)\n",
        "    acc = accuracy_score(y_test, y_pred)\n",
        "    f1 = f1_score(y_test, y_pred)\n",
        "    results.append({\n",
        "        'Model': name,\n",
        "        'Accuracy': round(acc, 4),\n",
        "        'F1 Score': round(f1, 4)\n",
        "    })"
      ]
    },
    {
      "cell_type": "code",
      "execution_count": 37,
      "id": "VRj8CqjeXVL7",
      "metadata": {
        "colab": {
          "base_uri": "https://localhost:8080/"
        },
        "id": "VRj8CqjeXVL7",
        "outputId": "f49a7c62-e992-4e88-f50f-91fc8c205202"
      },
      "outputs": [
        {
          "data": {
            "text/plain": [
              "[{'Model': 'Logistic Regression', 'Accuracy': 0.875, 'F1 Score': 0.8878},\n",
              " {'Model': 'KNN', 'Accuracy': 0.8859, 'F1 Score': 0.8986},\n",
              " {'Model': 'Naive Bayes', 'Accuracy': 0.8696, 'F1 Score': 0.8788},\n",
              " {'Model': 'Decision Tree', 'Accuracy': 0.7609, 'F1 Score': 0.7755},\n",
              " {'Model': 'SVM (RBF Kernel)', 'Accuracy': 0.8641, 'F1 Score': 0.8804}]"
            ]
          },
          "execution_count": 37,
          "metadata": {},
          "output_type": "execute_result"
        }
      ],
      "source": [
        "results"
      ]
    },
    {
      "cell_type": "code",
      "execution_count": 38,
      "id": "AIv9hqnNXWaP",
      "metadata": {
        "colab": {
          "base_uri": "https://localhost:8080/"
        },
        "id": "AIv9hqnNXWaP",
        "outputId": "ce8384fa-b92f-4eb0-fd16-90b843d729b2"
      },
      "outputs": [
        {
          "data": {
            "text/plain": [
              "['columns.pkl']"
            ]
          },
          "execution_count": 38,
          "metadata": {},
          "output_type": "execute_result"
        }
      ],
      "source": [
        "import joblib\n",
        "joblib.dump(models['KNN'],'KNN_heart.pkl')\n",
        "joblib.dump(scaler,'scaler.pkl')\n",
        "joblib.dump(X.columns.tolist(),'columns.pkl')\n"
      ]
    },
    {
      "cell_type": "code",
      "execution_count": null,
      "id": "O4pkP0l9ZG2P",
      "metadata": {
        "id": "O4pkP0l9ZG2P"
      },
      "outputs": [],
      "source": []
    }
  ],
  "metadata": {
    "colab": {
      "provenance": []
    },
    "kernelspec": {
      "display_name": "Python 3",
      "language": "python",
      "name": "python3"
    },
    "language_info": {
      "codemirror_mode": {
        "name": "ipython",
        "version": 3
      },
      "file_extension": ".py",
      "mimetype": "text/x-python",
      "name": "python",
      "nbconvert_exporter": "python",
      "pygments_lexer": "ipython3",
      "version": "3.11.7"
    }
  },
  "nbformat": 4,
  "nbformat_minor": 5
}
